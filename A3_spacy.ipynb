{
 "cells": [
  {
   "cell_type": "code",
   "execution_count": 1,
   "id": "c1499c38",
   "metadata": {},
   "outputs": [],
   "source": [
    "import numpy as np\n",
    "import random as rn\n",
    "import spacy\n",
    "\n",
    "import os\n",
    "\n",
    "os.environ['PYTHONHASHSEED'] = '0'\n",
    "\n",
    "np.random.seed(12)\n",
    "rn.seed(34)"
   ]
  },
  {
   "cell_type": "code",
   "execution_count": 2,
   "id": "3132dbd0",
   "metadata": {},
   "outputs": [
    {
     "name": "stdout",
     "output_type": "stream",
     "text": [
      "\u001b[38;5;2m✔ Auto-filled config with all values\u001b[0m\r\n",
      "\u001b[38;5;2m✔ Saved config\u001b[0m\r\n",
      "config.cfg\r\n",
      "You can now add your data and train your pipeline:\r\n",
      "python -m spacy train config.cfg --paths.train ./train.spacy --paths.dev ./dev.spacy\r\n"
     ]
    }
   ],
   "source": [
    "!python -m spacy init fill-config ./base_config.cfg ./config.cfg"
   ]
  },
  {
   "cell_type": "code",
   "execution_count": 2,
   "id": "a2e07a58",
   "metadata": {},
   "outputs": [],
   "source": [
    "import pandas as pd\n",
    "import os\n",
    "import re"
   ]
  },
  {
   "cell_type": "code",
   "execution_count": 3,
   "id": "ea442c9c",
   "metadata": {},
   "outputs": [],
   "source": [
    "# collect data\n",
    "\n",
    "def create_dataset(txt_file, ann_file):\n",
    "    with open(txt_file, \"r\") as txt_f, open(ann_file, \"r\") as ann_f:\n",
    "        fulltext = re.sub('\\xa0', ' ', txt_f.read())\n",
    "        annotations = ann_f.readlines()\n",
    "        \n",
    "        sentences = [x for x in filter(None, fulltext.split('\\n'))]\n",
    "        labels = [list() for _ in sentences]\n",
    "        for line in annotations:\n",
    "            if line.startswith(\"T\"):\n",
    "                _, entity_type, start, end, *text = line.split()\n",
    "                try:\n",
    "                    start = int(start)\n",
    "                    end = int(end)\n",
    "                except Exception as e:\n",
    "                    break\n",
    "                for i, curr_sent in enumerate(sentences):\n",
    "                    esc_text = re.escape(curr_sent)\n",
    "                    for curr_sent_span in re.finditer(esc_text+'\\n', fulltext):\n",
    "                        curr_sent_span = curr_sent_span.span()\n",
    "                        if end <= curr_sent_span[1]:\n",
    "                            try:\n",
    "                                labels[i].append((re.search(re.escape(\" \".join(text)), curr_sent).span()[0],\n",
    "                                                 re.search(re.escape(\" \".join(text)), curr_sent).span()[1],\n",
    "                                                 entity_type))\n",
    "#                                 print(text,\n",
    "#                                       re.search(re.escape(\" \".join(text)), curr_sent).span()[0],\n",
    "#                                       re.search(re.escape(\" \".join(text)), curr_sent).span()[1],\n",
    "#                                       entity_type)\n",
    "                            except Exception as e:\n",
    "                                continue\n",
    "                            break\n",
    "    return sentences, labels\n",
    "\n",
    "X_data = []\n",
    "y_data = []\n",
    "numberoffiles = 0\n",
    "\n",
    "for subdir, dirs, files in os.walk('a3data/train_data/'):\n",
    "    for file in files:\n",
    "        if file.endswith(\".txt\"):\n",
    "            txt_file = os.path.join(subdir, file)\n",
    "#             print(txt_file)\n",
    "            filetext = open(txt_file, 'r').read()\n",
    "            ann_file = os.path.join(txt_file[:-4] + \".ann\")\n",
    "            if os.path.isfile(ann_file):\n",
    "                numberoffiles += 1\n",
    "                X, y = create_dataset(txt_file, ann_file)\n",
    "                X_data.extend(X)\n",
    "                y_data.extend(y)\n"
   ]
  },
  {
   "cell_type": "code",
   "execution_count": 4,
   "id": "bb426c48",
   "metadata": {},
   "outputs": [
    {
     "data": {
      "text/plain": [
       "7976"
      ]
     },
     "execution_count": 4,
     "metadata": {},
     "output_type": "execute_result"
    }
   ],
   "source": [
    "assert len(y_data) == len(X_data)\n",
    "len(y_data)"
   ]
  },
  {
   "cell_type": "code",
   "execution_count": 5,
   "id": "d46d56f6",
   "metadata": {},
   "outputs": [],
   "source": [
    "dataset = list(zip(X_data, y_data))"
   ]
  },
  {
   "cell_type": "code",
   "execution_count": 6,
   "id": "d34a7978",
   "metadata": {},
   "outputs": [],
   "source": [
    "import spacy\n",
    "from spacy import displacy"
   ]
  },
  {
   "cell_type": "code",
   "execution_count": 7,
   "id": "8cb2a653",
   "metadata": {},
   "outputs": [],
   "source": [
    "from tqdm import tqdm"
   ]
  },
  {
   "cell_type": "code",
   "execution_count": 8,
   "id": "1c1fc524",
   "metadata": {},
   "outputs": [],
   "source": [
    "nlp = spacy.load(\"ru_core_news_lg\")"
   ]
  },
  {
   "cell_type": "code",
   "execution_count": 9,
   "id": "959992b9",
   "metadata": {},
   "outputs": [],
   "source": [
    "X_train = []\n",
    "y_train = []\n",
    "\n",
    "for i, item in enumerate(y_data):\n",
    "    for ann in item:\n",
    "        y_train.append([ann])\n",
    "        X_train.append(X_data[i])"
   ]
  },
  {
   "cell_type": "code",
   "execution_count": 10,
   "id": "c4a42690",
   "metadata": {
    "scrolled": true
   },
   "outputs": [
    {
     "data": {
      "text/plain": [
       "[('Полиция Бельгии арестовала двух человек по подозрению в подготовке теракта',\n",
       "  [(0, 15, 'ORGANIZATION')]),\n",
       " ('Полиция Бельгии арестовала двух человек по подозрению в подготовке теракта',\n",
       "  [(8, 15, 'COUNTRY')]),\n",
       " ('Полиция Бельгии арестовала двух человек по подозрению в подготовке теракта',\n",
       "  [(27, 31, 'NUMBER')])]"
      ]
     },
     "execution_count": 10,
     "metadata": {},
     "output_type": "execute_result"
    }
   ],
   "source": [
    "list(zip(X_train, y_train))[:3]"
   ]
  },
  {
   "cell_type": "code",
   "execution_count": 34,
   "id": "fe903763",
   "metadata": {},
   "outputs": [
    {
     "name": "stderr",
     "output_type": "stream",
     "text": [
      "7976it [00:47, 166.79it/s]\n"
     ]
    }
   ],
   "source": [
    "from spacy.tokens import DocBin\n",
    "\n",
    "db = DocBin()\n",
    "errors = []\n",
    "for text, annotations in tqdm(zip(X_data, y_data)):\n",
    "    doc = nlp(text)\n",
    "    entities = []\n",
    "    for start, end, label in annotations:\n",
    "        span = doc.char_span(start, end, label=label)\n",
    "        entities.append(span)\n",
    "        try:\n",
    "            doc.ents += (span,)\n",
    "        except Exception as e:\n",
    "            errors.append(e)\n",
    "    db.add(doc)"
   ]
  },
  {
   "cell_type": "code",
   "execution_count": 38,
   "id": "d5fb13bf",
   "metadata": {},
   "outputs": [
    {
     "data": {
      "text/plain": [
       "ValueError('[E1010] Unable to set entity information for token 1 which is included in more than one span in entities, blocked, missing or outside.')"
      ]
     },
     "execution_count": 38,
     "metadata": {},
     "output_type": "execute_result"
    }
   ],
   "source": [
    "errors[1]"
   ]
  },
  {
   "cell_type": "code",
   "execution_count": 37,
   "id": "6f505040",
   "metadata": {},
   "outputs": [
    {
     "data": {
      "text/plain": [
       "7976"
      ]
     },
     "execution_count": 37,
     "metadata": {},
     "output_type": "execute_result"
    }
   ],
   "source": [
    "len(db)"
   ]
  },
  {
   "cell_type": "code",
   "execution_count": 39,
   "id": "a7841c31",
   "metadata": {},
   "outputs": [],
   "source": [
    "db.to_disk('./dataset.spacy')"
   ]
  },
  {
   "cell_type": "code",
   "execution_count": null,
   "id": "d81afdc0",
   "metadata": {},
   "outputs": [
    {
     "name": "stdout",
     "output_type": "stream",
     "text": [
      "\u001b[38;5;4mℹ Saving to output directory: spacy_models\u001b[0m\n",
      "\u001b[38;5;4mℹ Using CPU\u001b[0m\n",
      "\u001b[38;5;4mℹ To switch to GPU 0, use the option: --gpu-id 0\u001b[0m\n",
      "\u001b[1m\n",
      "=========================== Initializing pipeline ===========================\u001b[0m\n",
      "[2023-04-17 23:47:59,888] [INFO] Set up nlp object from config\n",
      "[2023-04-17 23:47:59,893] [INFO] Pipeline: ['transformer', 'ner']\n",
      "[2023-04-17 23:47:59,895] [INFO] Created vocabulary\n",
      "[2023-04-17 23:47:59,896] [INFO] Finished initializing nlp object\n",
      "Some weights of the model checkpoint at bert-base-multilingual-uncased were not used when initializing BertModel: ['cls.predictions.transform.dense.bias', 'cls.seq_relationship.bias', 'cls.predictions.transform.LayerNorm.weight', 'cls.predictions.decoder.weight', 'cls.predictions.transform.dense.weight', 'cls.seq_relationship.weight', 'cls.predictions.transform.LayerNorm.bias', 'cls.predictions.bias']\n",
      "- This IS expected if you are initializing BertModel from the checkpoint of a model trained on another task or with another architecture (e.g. initializing a BertForSequenceClassification model from a BertForPreTraining model).\n",
      "- This IS NOT expected if you are initializing BertModel from the checkpoint of a model that you expect to be exactly identical (initializing a BertForSequenceClassification model from a BertForSequenceClassification model).\n",
      "[2023-04-17 23:48:05,561] [INFO] Initialized pipeline components: ['transformer', 'ner']\n",
      "\u001b[38;5;2m✔ Initialized pipeline\u001b[0m\n",
      "\u001b[1m\n",
      "============================= Training pipeline =============================\u001b[0m\n",
      "\u001b[38;5;4mℹ Pipeline: ['transformer', 'ner']\u001b[0m\n",
      "\u001b[38;5;4mℹ Initial learn rate: 0.0\u001b[0m\n",
      "E    #       LOSS TRANS...  LOSS NER  ENTS_F  ENTS_P  ENTS_R  SCORE \n",
      "---  ------  -------------  --------  ------  ------  ------  ------\n",
      "  0       0        1339.78   1165.52    1.59    0.99    4.15    0.02\n",
      "  1     200      111427.16  95163.39   71.85   77.19   67.20    0.72\n",
      "  2     400       28261.54  28067.73   83.33   86.30   80.55    0.83\n",
      "  3     600       16973.35  19646.12   87.32   87.49   87.15    0.87\n",
      "  4     800       13568.70  16382.62   89.33   87.39   91.36    0.89\n",
      "  5    1000       10631.85  12369.13   92.22   90.41   94.11    0.92\n",
      "  7    1200        8667.03  10122.91   94.61   93.50   95.76    0.95\n",
      "  8    1400        6072.47   7621.60   95.54   94.35   96.77    0.96\n",
      "  9    1600        4637.27   6001.27   96.82   96.28   97.37    0.97\n",
      " 10    1800        4644.54   5446.85   96.89   96.33   97.47    0.97\n",
      " 11    2000        3991.77   4489.51   98.24   97.91   98.57    0.98\n",
      " 12    2200        3100.45   3548.12   98.68   98.46   98.91    0.99\n",
      " 13    2400        2671.21   3043.10   98.88   98.62   99.14    0.99\n",
      " 15    2600        2274.18   2605.49   99.19   99.09   99.28    0.99\n",
      " 16    2800        2439.27   2333.09   99.25   99.16   99.35    0.99\n",
      " 17    3000        1759.26   2060.71   99.40   99.30   99.49    0.99\n",
      " 18    3200        1534.74   1810.23   99.56   99.53   99.59    1.00\n",
      " 19    3400        1336.10   1659.37   99.60   99.56   99.64    1.00\n",
      " 20    3600        1228.08   1466.29   99.57   99.51   99.64    1.00\n",
      " 22    3800        1246.02   1340.74   99.68   99.62   99.74    1.00\n",
      " 23    4000        1070.54   1284.52   99.67   99.55   99.79    1.00\n",
      " 24    4200        1104.65   1169.45   99.74   99.70   99.79    1.00\n",
      " 25    4400        2124.09   1221.45   99.72   99.68   99.76    1.00\n",
      " 26    4600         887.96    986.75   99.77   99.77   99.78    1.00\n",
      " 27    4800        1055.80   1050.42   99.77   99.70   99.84    1.00\n",
      " 29    5000         958.87    938.92   99.79   99.73   99.86    1.00\n",
      " 30    5200         800.28    905.75   99.81   99.77   99.84    1.00\n",
      " 31    5400         959.94    969.57   99.81   99.77   99.86    1.00\n",
      " 32    5600         584.50    758.90   99.82   99.80   99.85    1.00\n",
      " 33    5800         825.31    876.98   99.87   99.88   99.86    1.00\n",
      " 34    6000         701.34    779.89   99.85   99.82   99.88    1.00\n",
      " 35    6200         663.66    767.63   99.85   99.83   99.87    1.00\n",
      " 37    6400         771.57    781.40   99.87   99.86   99.88    1.00\n",
      " 38    6600         566.20    726.15   99.89   99.89   99.90    1.00\n",
      " 39    6800         608.18    650.37   99.84   99.81   99.87    1.00\n",
      " 40    7000         687.22    697.45   99.91   99.87   99.95    1.00\n",
      " 41    7200         827.68    613.91   99.88   99.87   99.90    1.00\n",
      " 43    7400         585.04    623.37   99.93   99.91   99.95    1.00\n",
      " 44    7600         438.73    534.10   99.89   99.88   99.90    1.00\n",
      " 45    7800         570.55    523.97   99.93   99.92   99.94    1.00\n",
      " 46    8000         390.69    495.70   99.91   99.91   99.92    1.00\n"
     ]
    }
   ],
   "source": [
    "!python -m spacy train config_trans.cfg --output \"./spacy_models\" --paths.train \"./dataset.spacy\" --paths.dev \"./dataset.spacy\""
   ]
  },
  {
   "cell_type": "code",
   "execution_count": null,
   "id": "c681fd03",
   "metadata": {},
   "outputs": [],
   "source": [
    "print(\"FINISH\")"
   ]
  },
  {
   "cell_type": "code",
   "execution_count": 42,
   "id": "7a2b1811",
   "metadata": {},
   "outputs": [],
   "source": [
    "best_model = spacy.load(\"spacy_models/model-best\")\n",
    "last_model = spacy.load(\"spacy_models/model-last\")"
   ]
  },
  {
   "cell_type": "code",
   "execution_count": 66,
   "id": "cb300b2a",
   "metadata": {},
   "outputs": [],
   "source": [
    "res = best_model('Пулеметы, автоматы и снайперские винтовки изъяты в арендуемом американцами доме в Бишкеке')"
   ]
  },
  {
   "cell_type": "code",
   "execution_count": 71,
   "id": "7fdc1c7e",
   "metadata": {},
   "outputs": [
    {
     "data": {
      "text/plain": [
       "62"
      ]
     },
     "execution_count": 71,
     "metadata": {},
     "output_type": "execute_result"
    }
   ],
   "source": [
    "res.ents[0].start_char"
   ]
  },
  {
   "cell_type": "code",
   "execution_count": 67,
   "id": "8782beee",
   "metadata": {},
   "outputs": [
    {
     "data": {
      "text/html": [
       "<span class=\"tex2jax_ignore\"><!DOCTYPE html>\n",
       "<html lang=\"ru\">\n",
       "    <head>\n",
       "        <title>displaCy</title>\n",
       "    </head>\n",
       "\n",
       "    <body style=\"font-size: 16px; font-family: -apple-system, BlinkMacSystemFont, 'Segoe UI', Helvetica, Arial, sans-serif, 'Apple Color Emoji', 'Segoe UI Emoji', 'Segoe UI Symbol'; padding: 4rem 2rem; direction: ltr\">\n",
       "<figure style=\"margin-bottom: 6rem\">\n",
       "<div class=\"entities\" style=\"line-height: 2.5; direction: ltr\">Пулеметы, автоматы и снайперские винтовки изъяты в арендуемом \n",
       "<mark class=\"entity\" style=\"background: #ddd; padding: 0.45em 0.6em; margin: 0 0.25em; line-height: 1; border-radius: 0.35em;\">\n",
       "    американцами\n",
       "    <span style=\"font-size: 0.8em; font-weight: bold; line-height: 1; border-radius: 0.35em; vertical-align: middle; margin-left: 0.5rem\">NATIONALITY</span>\n",
       "</mark>\n",
       " доме в \n",
       "<mark class=\"entity\" style=\"background: #ff9561; padding: 0.45em 0.6em; margin: 0 0.25em; line-height: 1; border-radius: 0.35em;\">\n",
       "    Бишкеке\n",
       "    <span style=\"font-size: 0.8em; font-weight: bold; line-height: 1; border-radius: 0.35em; vertical-align: middle; margin-left: 0.5rem\">LOC</span>\n",
       "</mark>\n",
       "</div>\n",
       "</figure>\n",
       "</body>\n",
       "</html></span>"
      ],
      "text/plain": [
       "<IPython.core.display.HTML object>"
      ]
     },
     "metadata": {},
     "output_type": "display_data"
    },
    {
     "name": "stdout",
     "output_type": "stream",
     "text": [
      "\n",
      "Using the 'ent' visualizer\n",
      "Serving on http://0.0.0.0:5001 ...\n",
      "\n",
      "Shutting down server on port 5001.\n"
     ]
    }
   ],
   "source": [
    "displacy.serve(res, style=\"ent\", auto_select_port=True)"
   ]
  },
  {
   "cell_type": "code",
   "execution_count": 167,
   "id": "7beff9c7",
   "metadata": {},
   "outputs": [],
   "source": [
    "truth_result = \"\"\n",
    "for subdir, dirs, files in os.walk('a3data/train_data/coll3_tacred/'):\n",
    "    for file in sorted(files):\n",
    "        if file.endswith(\".ann\"):\n",
    "            truth_result += f'{file}\\n'\n",
    "            txt_file = os.path.join(subdir, file)\n",
    "            testtext = open(txt_file, 'r').read()\n",
    "            for sent in filter(None, testtext.split('\\n')):\n",
    "                if sent[0] == 'T':\n",
    "                    sentence = sent.split()\n",
    "                    truth_result += \" \".join([sentence[1], sentence[2], sentence[3]])+\"\\n\"\n",
    "            truth_result += testtext\n"
   ]
  },
  {
   "cell_type": "code",
   "execution_count": 168,
   "id": "e61a3b0b",
   "metadata": {},
   "outputs": [
    {
     "data": {
      "text/plain": [
       "'003.ann\\nNATIONALITY 62 74\\nCITY 82 89\\nDATE 117 126\\nORGANIZATION 145 179\\nCOUNTRY 171 179\\nCOUNTRY 221 2'"
      ]
     },
     "execution_count": 168,
     "metadata": {},
     "output_type": "execute_result"
    }
   ],
   "source": [
    "truth_result[:100]"
   ]
  },
  {
   "cell_type": "code",
   "execution_count": 179,
   "id": "1597eb0d",
   "metadata": {},
   "outputs": [],
   "source": [
    "result = \"\"\n",
    "\n",
    "for subdir, dirs, files in os.walk('a3data/train_data/coll3_tacred/'):\n",
    "    for file in sorted(files):\n",
    "        if file.endswith(\".txt\"):\n",
    "            result += f'{file[:-4]}.ann\\n'\n",
    "            txt_file = os.path.join(subdir, file)\n",
    "            testtext = open(txt_file, 'r').read()\n",
    "            sentences = [x.strip() for x in filter(None, testtext.split('\\n'))]\n",
    "            for sentence in sentences:\n",
    "                sent_result = best_model(sentence)\n",
    "                for word in sent_result.ents:\n",
    "                    result += f'{word.label_} {word.start_char} {word.end_char}\\n'"
   ]
  },
  {
   "cell_type": "code",
   "execution_count": 170,
   "id": "519bcd7f",
   "metadata": {},
   "outputs": [
    {
     "data": {
      "text/plain": [
       "'003.ann\\nNATIONALITY 62 74\\nLOC 82 89\\nTIME 0 16\\nCITY 0 6\\nDATE 8 17\\nLOC 62 70\\nLOC 112 115\\nLOC 118 125\\nD'"
      ]
     },
     "execution_count": 170,
     "metadata": {},
     "output_type": "execute_result"
    }
   ],
   "source": [
    "result[:100]"
   ]
  },
  {
   "cell_type": "code",
   "execution_count": 85,
   "id": "69b8f969",
   "metadata": {},
   "outputs": [],
   "source": [
    "from collections import defaultdict\n",
    "\n",
    "def f1_score(submission_answer, truth):\n",
    "    submission_entities = defaultdict(list)\n",
    "    current = None\n",
    "    for line in submission_answer:\n",
    "        line = line.strip().split()\n",
    "        if len(line) == 1:\n",
    "            current = line[0]\n",
    "            continue\n",
    "        if len(line) == 3:\n",
    "            tag, l, r = line\n",
    "            submission_entities[current].append((tag, l, r))\n",
    "\n",
    "    true_entities = defaultdict(list)\n",
    "    current = None\n",
    "    for line in truth:\n",
    "        line = line.strip().split()\n",
    "        if len(line) == 1:\n",
    "            current = line[0]\n",
    "            continue\n",
    "        if len(line) == 3:\n",
    "            tag, l, r = line\n",
    "            true_entities[current].append((tag, l, r))\n",
    "\n",
    "    precision, recall, precision_total, recall_total = 0, 0, 0, 0\n",
    "    for current in true_entities:\n",
    "        if current not in submission_entities:\n",
    "            precision_total += len(submission_entities[current])\n",
    "            recall_total += len(true_entities[current])\n",
    "            continue\n",
    "\n",
    "        for entity in set(submission_entities[current]):\n",
    "            precision_total += 1\n",
    "            if entity in true_entities[current]:\n",
    "                precision += 1\n",
    "\n",
    "        for entity in set(true_entities[current]):\n",
    "            recall_total += 1\n",
    "            if entity[1:] in [e[1:] for e in submission_entities[current]]:\n",
    "                recall += 1\n",
    "\n",
    "    if precision_total > 0:\n",
    "        precision /= precision_total\n",
    "    if recall_total > 0:\n",
    "        recall /= recall_total\n",
    "    if precision + recall > 0:\n",
    "        f1 = 2 * precision * recall / (precision + recall)\n",
    "    else:\n",
    "        f1 = 0\n",
    "\n",
    "    # print(precision, recall)\n",
    "    return f1\n"
   ]
  },
  {
   "cell_type": "code",
   "execution_count": 86,
   "id": "be85b8e0",
   "metadata": {},
   "outputs": [
    {
     "data": {
      "text/plain": [
       "0.040515589618533354"
      ]
     },
     "execution_count": 86,
     "metadata": {},
     "output_type": "execute_result"
    }
   ],
   "source": [
    "found = 0\n",
    "for annotation in result.split('\\n'):\n",
    "    if re.search(annotation, truth_result):\n",
    "        found+= 1\n",
    "\n",
    "found / len(truth_result.split('\\n'))"
   ]
  },
  {
   "cell_type": "code",
   "execution_count": 180,
   "id": "af5b6292",
   "metadata": {},
   "outputs": [],
   "source": [
    "result = re.sub(r'\\nPER ', '\\nPERSON ', result)\n",
    "result = re.sub(r'\\nLOC ', '\\nCITY ', result)\n",
    "result = re.sub(r'\\nORG ', '\\nORGANIZATION ', result)"
   ]
  },
  {
   "cell_type": "code",
   "execution_count": 181,
   "id": "7be8698a",
   "metadata": {},
   "outputs": [
    {
     "data": {
      "text/plain": [
       "0.042568161829375555"
      ]
     },
     "execution_count": 181,
     "metadata": {},
     "output_type": "execute_result"
    }
   ],
   "source": [
    "f1_score(result.split('\\n'), truth_result.split('\\n'))"
   ]
  },
  {
   "cell_type": "code",
   "execution_count": 177,
   "id": "2bee1428",
   "metadata": {},
   "outputs": [
    {
     "data": {
      "text/plain": [
       "'003.ann\\nNATIONALITY 62 74\\nCOUNTRY 82 89\\nTIME 0 16\\nCITY 0 6\\nDATE 8 17\\nCOUNTRY 62 70\\nCOUNTRY 112 115\\nCOUNTRY 118 125\\nDATE 179 189\\nORGANIZATION 203 206\\nCOUNTRY 207 215\\nEVENT 83 90\\nCOUNTRY 106 113\\nAGE 137 147\\nCOUNTRY 159 167\\nCOUNTRY 192 195\\nEVENT 197 216\\nNUMBER 218 223\\nNUMBER 304 306\\nNUMBER 325 340\\nNUMBER 342 345\\nPRODUCT 363 370\\nNUMBER 371 384\\nNUMBER 386 392\\nNUMBER 553 566\\nPERSON 573 580\\nNUMBER 582 586\\nORGANIZATION 622 625\\nCOUNTRY 96 99\\nNUMBER 143 145\\nPROFESSION 146 160\\nCOUNTRY 181 184\\nPROFESSION 211 241\\nNUMBER 83 86\\nNUMBER 93 97\\nNUMBER 120 135\\nNUMBER 137 142\\nNUMBER 165 178\\nNUMBER 180 183\\nNUMBER 207 221\\nNUMBER 232 235\\nNUMBER 258 272\\nNUMBER 286 289\\nNUMBER 350 354\\nNUMBER 361 363\\nNUMBER 413 415\\nPRODUCT 451 458\\nORGANIZATION 13 16\\nORGANIZATION 71 82\\nCOUNTRY 83 90\\nTIME 92 98\\nORGANIZATION 160 171\\nCOUNTRY 26 29\\nCOUNTRY 59 67\\nCOUNTRY 116 124\\nDATE 134 144\\nCOUNTRY 183 186\\nCOUNTRY 43 51\\nCOUNTRY 74 84\\nPROFESSION 126 140\\nORGANIZATION 187 200\\nORGANIZATION 253 264\\nCOUNTRY 275 287\\nORGANIZATION 288 313\\nCOUNTRY 43 53\\nORGANIZATION 75 87\\nCOUNTRY 11 14\\nCOUNTRY 83 86\\nCOUNTRY 89 97\\nCOUNTRY 172 180\\nORGANIZATION 0 38\\nORGANIZATION 80 85\\nCOUNTRY 95 103\\nCOUNTRY 157 169\\nPROFESSION 170 177\\nCOUNTRY 69 72\\nORGANIZATION 86 97\\n013.ann\\nPERSON 0 15\\nPROFESSION 0 9\\nCOUNTRY 10 18\\nPERSON 19 34\\nPROFESSION 66 91\\nDATE 93 98\\nEVENT 102 108\\nPERSON 109 125\\nORGANIZATION 145 169\\nDATE 170 179\\nEVENT 186 206\\nPERSON 207 221\\nPROFESSION 281 291\\nCOUNTRY 292 294\\nPERSON 338 346\\nORGANIZATION 378 383\\nCOUNTRY 384 387\\nORGANIZATION 13 14\\nSTATE_OR_PROVINCE 35 46\\nPROFESSION 47 57\\nPERSON 58 75\\nDATE 77 82\\nPERSON 83 98\\nEVENT 99 112\\nEVENT 116 124\\nAGE 152 161\\nPERSON 162 176\\nCOUNTRY 292 295\\nEVENT 297 312\\nDATE 313 333\\nEVENT 366 381\\nEVENT 406 414\\nPROFESSION 424 443\\nPERSON 444 458\\nDATE 0 9\\nSTATE_OR_PROVINCE 29 40\\nORGANIZATION 70 83\\nPERSON 111 119\\nPERSON 145 152\\nCOUNTRY 179 185\\nPERSON 250 258\\nORGANIZATION 260 283\\nORGANIZATION 313 330\\nORGANIZATION 339 352\\nORGANIZATION 400 401\\nDATE 403 409\\nORGANIZATION 416 442\\nPERSON 443 455\\nPERSON 481 497\\nSTATE_OR_PROVINCE 33 43\\nPROFESSION 59 74\\nORGANIZATION 76 89\\nPERSON 91 106\\nORGANIZATION 115 116\\nEVENT 162 170\\nPROFESSION 171 201\\nEVENT 19 27\\nORGANIZATION 38 39\\nSTATE_OR_PROVINCE 43 53\\nPERSON 171 185\\nORGANIZATION 404 417\\nPERSON 429 445\\nPROFESSION 478 491\\nPROFESSION 582 601\\nPERSON 676 683\\nPERSON 777 785\\nORGANIZATION 788 807\\nCITY 2 10\\nORGANIZATION 18 19\\nDATE 35 40\\nPERSON 53 60\\nEVENT 75 85\\nPROFESSION 94 113\\nCOUNTRY 128 131\\nPERSON 185 200\\nPERSON 222 234\\nORGANIZATION 279 280\\nPROFESSION 344 355\\nORGANIZATION 356 374\\nPERSON 375 390\\nPROFESSION 12 48\\nIDEOLOGY 57 66\\nPERSON 67 80\\nPROFESSION 118 131\\nPERSON 162 170\\nPROFESSION 227 248\\nCOUNTRY 255 261\\nPERSON 311 318\\nNATIONALITY 342 349\\nPERSON 426 432\\nCITY 434 442\\nPROFESSION 443 452\\nPERSON 453 469\\nDATE 604 613\\nORGANIZATION 726 729\\nCOUNTRY 733 741\\nPERSON 742 757\\nEVENT 774 782\\nPROFESSION 835 849\\n014.ann\\nCOUNTRY 0 6\\nPROFESSION 28 35\\nDATE 0 7\\nCOUNTRY 10 14\\nEVENT 27 36\\nORGANIZATION 37 73\\nPROFESSION 98 105\\nORGANIZATION 135 136\\nNATIONALITY 155 164\\nDATE 167 176\\nCOUNTRY 177 183\\nCOUNTRY 240 244\\nDATE 295 315\\nCOUNTRY 316 322\\nPROFESSION 9 16\\nORGANIZATION 17 21\\nORGANIZATION 96 100\\nDATE 151 162\\nEVENT 163 172\\nCOUNTRY 175 181\\nORGANIZATION 319 323\\nCOUNTRY 325 331\\nCOUNTRY 352 367\\nCOUNTRY 421 425\\nORGANIZATION 451 452\\nCOUNTRY 486 492\\nPROFESSION 561 569\\nORGANIZATION 570 574\\nCOUNTRY 598 600\\nNATIONALITY 619 629\\nORGANIZATION 639 643\\nDATE 651 663\\nEVENT 664 673\\nCOUNTRY 701 707\\nPROFESSION 0 9\\nCOUNTRY 10 12\\nPERSON 13 29\\nORGANIZATION 38 51\\nDATE 80 88\\nORGANIZATION 106 112\\nPROFESSION 114 120\\nAGE 133 149\\nDATE 157 166\\nLANGUAGE 207 217\\nORGANIZATION 234 235\\nORGANIZATION 248 261\\nCOUNTRY 262 264\\nDATE 270 278\\nPROFESSION 322 341\\nPERSON 342 355\\nCOUNTRY 411 413\\nORGANIZATION 492 500\\nPERSON 519 525\\nPROFESSION 574 584\\nPERSON 710 715\\nPERSON 720 725\\nPERSON 734 741\\nPERSON 830 845\\nORGANIZATION 36 37\\nNUMBER 53 56\\nORGANIZATION 127 135\\nPERSON 137 155\\nORGANIZATION 168 184\\nPERSON 185 197\\nCOUNTRY 241 255\\nORGANIZATION 270 293\\nPERSON 320 326\\nPERSON 334 341\\nCOUNTRY 371 375\\nPERSON 376 384\\nORGANIZATION 389 401\\nPERSON 508 516\\nPERSON 519 526\\nDATE 13 20\\nPROFESSION 21 33\\nCOUNTRY 34 36\\nPERSON 37 48\\nPROFESSION 59 70\\nCOUNTRY 76 82\\nORGANIZATION 139 143\\nORGANIZATION 175 176\\nDATE 196 219\\nORGANIZATION 236 237\\nORGANIZATION 250 263\\nPROFESSION 266 288\\nORGANIZATION 313 317\\nCOUNTRY 341 345\\nPERSON 354 365\\nCOUNTRY 8 18\\nPROFESSION 48 66\\nCOUNTRY 67 69\\nPERSON 70 83\\nCOUNTRY 110 114\\nPROFESSION 139 146\\nORGANIZATION 147 151\\nCOUNTRY 168 174\\nPROFESSION 241 248\\nEVENT 262 271\\nORGANIZATION 289 290\\nCOUNTRY 321 325\\nPROFESSION 32 39\\nORGANIZATION 60 61\\nORGANIZATION 65 74\\nNUMBER 129 133\\nORGANIZATION 145 149\\nDATE 263 270\\nDATE 272 282\\nORGANIZATION 309 313\\nNUMBER 326 331\\nNUMBER 335 337\\nCOUNTRY 352 357\\nCOUNTRY 359 365\\nCOUNTRY 367 372\\nCOUNTRY 374 379\\nCOUNTRY 381 389\\nCOUNTRY 392 398\\nCOUNTRY 408 414\\nCOUNTRY 474 476\\nCOUNTRY 478 483\\nCOUNTRY 486 494\\nCOUNTRY 522 529\\nCOUNTRY 531 540\\nCOUNTRY 542 546\\nCOUNTRY 548 555\\nCOUNTRY 558 579\\nDATE 23 34\\nEVENT 35 42\\nCOUNTRY 45 49\\nPROFESSION 81 88\\nCOUNTRY 95 99\\nDATE 100 105\\nPROFESSION 152 166\\nORGANIZATION 167 205\\nPERSON 206 227\\nCOUNTRY 252 260\\nORGANIZATION 263 267\\nPERSON 268 287\\nEVENT 306 320\\nDATE 429 450\\nPROFESSION 516 524\\nORGANIZATION 525 529\\nCOUNTRY 548 554\\nCOUNTRY 74 80\\nORGANIZATION 151 155\\nORGANIZATION 350 354\\nCOUNTRY 369 375\\n022.ann\\nCOUNTRY 0 10\\nPROFESSION 11 20\\nORGANIZATION 53 57\\nORGANIZATION 0 13\\nCOUNTRY 14 20\\nPROFESSION 49 71\\nORGANIZATION 72 110\\nORGANIZATION 153 157\\nORGANIZATION 182 192\\nCOUNTRY 242 248\\nCOUNTRY 298 304\\nEVENT 316 322\\nORGANIZATION 323 327\\nCOUNTRY 330 334\\nORGANIZATION 1 11\\nPROFESSION 27 49\\nNATIONALITY 79 88\\nDATE 153 172\\nCOUNTRY 175 181\\nCOUNTRY 189 195\\nORGANIZATION 238 242\\nCOUNTRY 245 249\\nCOUNTRY 251 261\\nORGANIZATION 262 275\\nCOUNTRY 318 334\\nCOUNTRY 378 382\\nCOUNTRY 13 19\\nPROFESSION 62 69\\nORGANIZATION 79 83\\nPROFESSION 93 112\\nPERSON 113 126\\nPROFESSION 147 225\\nPROFESSION 237 247\\nORGANIZATION 249 257\\nORGANIZATION 271 282\\nPERSON 285 291\\nPROFESSION 6 15\\nNUMBER 30 33\\nPROFESSION 47 70\\nORGANIZATION 105 113\\nPERSON 115 135\\nORGANIZATION 153 164\\nPERSON 166 179\\nORGANIZATION 217 221\\nORGANIZATION 16 20\\nPROFESSION 22 43\\nLANGUAGE 71 81\\nDATE 96 105\\nAGE 135 151\\nORGANIZATION 11 22\\nCOUNTRY 37 41\\nCOUNTRY 42 48\\nPROFESSION 77 99\\nCOUNTRY 182 187\\nPROFESSION 201 209\\nPROFESSION 222 236\\nORGANIZATION 237 275\\nPERSON 276 297\\nORGANIZATION 9 13\\nORGANIZATION 145 151\\nORGANIZATION 151 190\\nORGANIZATION 201 205\\nDATE 274 290\\nDATE 331 350\\nEVENT 351 358\\nORGANIZATION 359 363\\nCOUNTRY 400 416\\nCOUNTRY 0 6\\nCOUNTRY 119 125\\nORGANIZATION 129 133\\nCOUNTRY 147 152\\nCOUNTRY 154 161\\nCOUNTRY 163 169\\nCOUNTRY 171 180\\nCOUNTRY 182 188\\nCOUNTRY 190 199\\nCOUNTRY 201 205\\nCOUNTRY 207 212\\nCOUNTRY 214 219\\nCOUNTRY 221 229\\nCOUNTRY 231 238\\nCOUNTRY 240 243\\nCOUNTRY 245 249\\nCOUNTRY 251 259\\nCOUNTRY 262 268\\nCOUNTRY 271 292\\n023.ann\\nORGANIZATION 0 8\\nPROFESSION 22 43\\nPROFESSION 0 21\\nORGANIZATION 38 46\\nEVENT 47 55\\nAGE 56 65\\nPERSON 66 97\\nORGANIZATION 108 131\\nORGANIZATION 145 153\\nDATE 164 174\\nPERSON 182 190\\nPROFESSION 195 216\\nORGANIZATION 245 254\\nPERSON 0 8\\nORGANIZATION 50 58\\nORGANIZATION 61 70\\nNUMBER 89 92\\nORGANIZATION 173 181\\nPERCENT 190 203\\nDATE 223 234\\nORGANIZATION 11 20\\nPERSON 21 35\\nDATE 47 53\\nPROFESSION 58 79\\nDATE 88 99\\nPERSON 119 127\\nDATE 139 158\\nORGANIZATION 166 179\\nEVENT 180 185\\nORGANIZATION 186 195\\nORGANIZATION 10 33\\nPROFESSION 48 69\\nORGANIZATION 70 78\\nNUMBER 92 94\\nORGANIZATION 156 164\\nPERSON 165 201\\nPROFESSION 212 235\\nPROFESSION 6 27\\nORGANIZATION 28 36\\nPERSON 41 61\\nEVENT 66 82\\nDATE 83 99\\nPROFESSION 143 156\\nORGANIZATION 0 8\\n037.ann\\nPERSON 0 5\\nEVENT 6 14\\nORGANIZATION 17 30\\nCOUNTRY 31 47\\nPROFESSION 0 9\\nCOUNTRY 10 13\\nPERSON 14 25\\nEVENT 26 34\\nPROFESSION 70 75\\nORGANIZATION 89 108\\nPERSON 109 141\\nORGANIZATION 152 168\\nORGANIZATION 206 213\\nPERSON 215 224\\nORDINAL 232 238\\nPROFESSION 239 245\\nNATIONALITY 246 265\\nORGANIZATION 290 305\\nCOUNTRY 306 309\\nAGE 0 9\\nPERSON 10 19\\nEVENT 26 35\\nNUMBER 39 43\\nNUMBER 47 53\\nORGANIZATION 61 75\\nDATE 91 97\\nPERSON 114 141\\nPERSON 165 170\\nDATE 192 199\\nPROFESSION 228 238\\nORGANIZATION 242 264\\nORGANIZATION 273 279\\nPERSON 332 341\\nPERSON 0 9\\nNATIONALITY 48 63\\nCOUNTRY 72 81\\nORGANIZATION 92 116\\nCOUNTRY 133 137\\nPROFESSION 148 158\\nDATE 204 215\\nPROFESSION 222 240\\nCOUNTRY 243 255\\nCOUNTRY 256 265\\nPROFESSION 292 301\\nIDEOLOGY 302 315\\nPERSON 316 334\\nIDEOLOGY 351 359\\nPERSON 360 372\\nEVENT 373 381\\nPERSON 382 391\\nORGANIZATION 394 423\\nORGANIZATION 0 2\\nPERSON 53 62\\nORGANIZATION 105 118\\nPERSON 181 188\\nPERSON 237 262\\nPERSON 291 313\\n041.ann\\nPERSON 0 11\\nDISEASE 36 45\\nPERSON 0 11\\nEVENT 12 20\\nPROFESSION 21 28\\nPERSON 29 60\\nPROFESSION 69 78\\nORGANIZATION 79 133\\nORGANIZATION 154 161\\nORGANIZATION 210 238\\nCOUNTRY 239 242\\nDISEASE 291 302\\nDISEASE 309 323\\nAGE 0 9\\nPERSON 10 16\\nDATE 17 28\\nORGANIZATION 51 78\\nCOUNTRY 79 88\\nDISEASE 235 243\\nDATE 327 338\\nCOUNTRY 341 350\\nPERSON 425 431\\nDATE 432 450\\nCOUNTRY 461 466\\nDISEASE 509 520\\nPERSON 117 152\\nCOUNTRY 192 200\\nMONEY 225 252\\n043.ann\\nPERSON 0 14\\nEVENT 15 21\\nORGANIZATION 35 38\\nPERSON 0 14\\nEVENT 15 21\\nPROFESSION 34 46\\nPERSON 47 68\\nORGANIZATION 89 105\\nAGE 107 116\\nPERSON 117 121\\nPERSON 192 222\\nORGANIZATION 248 268\\nEVENT 287 295\\nPERSON 296 312\\nPERSON 316 320\\nORGANIZATION 324 346\\nORGANIZATION 347 369\\nPERSON 34 39\\nEVENT 40 53\\nNUMBER 54 68\\nPERCENT 82 95\\nCOUNTRY 111 118\\nNUMBER 121 132\\nPERCENT 134 147\\nPROFESSION 191 195\\nPERSON 210 220\\nCRIME 243 259\\nPENALTY 293 304\\nDATE 310 319\\nDATE 370 378\\nPERSON 11 20\\nPERSON 94 98\\nPERSON 202 208\\nPERSON 222 232\\nCOUNTRY 260 268\\n046.ann\\nORGANIZATION 14 20\\nCOUNTRY 21 24\\nIDEOLOGY 34 46\\nCOUNTRY 50 57\\nPROFESSION 0 7\\nCOUNTRY 17 24\\nPERSON 25 52\\nIDEOLOGY 68 82\\nORGANIZATION 85 115\\nORGANIZATION 123 140\\nPERSON 142 147\\nPERSON 155 186\\nIDEOLOGY 223 233\\nORGANIZATION 235 256\\nORGANIZATION 304 319\\nPROFESSION 339 348\\nPERSON 349 360\\nAGE 10 19\\nPERSON 20 25\\nPERSON 77 85\\nPERSON 92 99\\nPERSON 184 189\\nORGANIZATION 194 230\\nORGANIZATION 274 294\\nORGANIZATION 361 376\\nEVENT 399 407\\nPERSON 408 437\\nPROFESSION 0 5\\nPERSON 6 12\\nEVENT 21 29\\nORGANIZATION 30 55\\nCOUNTRY 56 59\\nDATE 60 66\\nPERSON 70 75\\nORGANIZATION 90 106\\nDATE 149 165\\nPROFESSION 167 176\\nPROFESSION 229 239\\nIDEOLOGY 256 269\\nPERSON 270 296\\nPERSON 298 303\\nIDEOLOGY 338 346\\nIDEOLOGY 351 362\\nPERSON 365 369\\nPERSON 406 411\\nIDEOLOGY 422 436\\nPERSON 0 11\\nCOUNTRY 25 32\\nORGANIZATION 35 41\\nPERSON 128 133\\nPERSON 333 339\\nPERSON 350 359\\nPERSON 403 409\\n04_12_12g.ann\\nPERSON 0 11\\nEVENT 12 29\\nPROFESSION 42 58\\nCOUNTRY 59 65\\nORGANIZATION 6 13\\nORGANIZATION 20 27\\nORGANIZATION 34 41\\nORGANIZATION 6 13\\nPROFESSION 0 15\\nCOUNTRY 16 22\\nPERSON 23 34\\nEVENT 56 83\\nORGANIZATION 100 109\\nLAW 118 149\\nPERSON 161 165\\nPROFESSION 183 197\\nPERSON 234 245\\nPERSON 253 271\\nORGANIZATION 282 289\\nORGANIZATION 62 75\\nPERSON 86 91\\nAGE 120 129\\nPERSON 130 148\\nTIME 193 211\\nPERSON 225 230\\nPROFESSION 312 342\\nDATE 343 354\\nPERSON 44 49\\nPROFESSION 113 122\\nORGANIZATION 160 170\\nCOUNTRY 261 272\\nPROFESSION 273 283\\nPROFESSION 0 10\\nPERSON 33 43\\nORGANIZATION 88 105\\nPERSON 15 25\\nPROFESSION 74 90\\nCOUNTRY 91 97\\nPERSON 0 10\\nEVENT 18 26\\nDATE 27 52\\nORGANIZATION 85 99\\nDATE 16 30\\nEVENT 32 46\\nPERSON 47 57\\nDATE 60 64\\nLAW 81 99\\nPENALTY 176 196\\nPROFESSION 205 226\\nDATE 236 249\\nDATE 250 264\\nORGANIZATION 295 303\\nPERSON 323 333\\nCRIME 357 378\\nPERSON 380 390\\nAGE 426 444\\nPROFESSION 445 457\\nPERSON 484 488\\nPROFESSION 15 23\\nPERSON 24 34\\nPROFESSION 57 65\\nIDEOLOGY 37 53\\nORGANIZATION 54 76\\nCOUNTRY 77 83\\nPERSON 84 103\\nPROFESSION 130 146\\nEVENT 223 232\\nDATE 233 242\\nEVENT 247 254\\nCOUNTRY 255 262\\nPROFESSION 270 274\\nCOUNTRY 275 284\\nPERSON 285 297\\nPROFESSION 339 348\\nCOUNTRY 365 371\\nORGANIZATION 373 395\\nORGANIZATION 427 443\\nPERSON 477 489\\nORGANIZATION 518 533\\nORGANIZATION 538 547\\nNUMBER 559 562\\nORGANIZATION 582 592\\nCOUNTRY 593 599\\nIDEOLOGY 628 641\\nCOUNTRY 11 17\\nORGANIZATION 71 84\\nCOUNTRY 0 11\\nPROFESSION 12 19\\nORGANIZATION 35 48\\nPROFESSION 60 69\\nORGANIZATION 83 92\\nORGANIZATION 179 184\\nNUMBER 198 201\\nNUMBER 212 218\\nPROFESSION 237 256\\nCOUNTRY 280 286\\nORGANIZATION 300 313\\nCOUNTRY 314 320\\nORGANIZATION 405 415\\nEVENT 443 451\\nORGANIZATION 471 477\\nPERSON 505 515\\nPERSON 39 49\\nCRIME 74 91\\nCRIME 93 102\\nCRIME 104 115\\nPROFESSION 116 129\\nPROFESSION 301 308\\nORGANIZATION 340 353\\n055.ann\\nCOUNTRY 0 6\\nDATE 20 23\\nPROFESSION 46 53\\nORGANIZATION 63 67\\nORGANIZATION 0 13\\nCOUNTRY 14 20\\nDATE 27 37\\nPROFESSION 87 109\\nORGANIZATION 110 148\\nORGANIZATION 191 195\\nORGANIZATION 206 216\\nCOUNTRY 229 239\\nORGANIZATION 265 269\\nPERSON 276 294\\nPROFESSION 296 310\\nORGANIZATION 321 334\\nCOUNTRY 376 382\\nPROFESSION 43 50\\nORGANIZATION 51 55\\nCOUNTRY 56 62\\nCOUNTRY 76 80\\nDATE 81 89\\nORGANIZATION 233 239\\nDATE 289 300\\nCOUNTRY 301 311\\nPROFESSION 410 430\\nDATE 0 19\\nORGANIZATION 30 34\\nORGANIZATION 106 110\\nCOUNTRY 118 122\\nORGANIZATION 135 146\\nCOUNTRY 149 155\\nCOUNTRY 176 191\\nPROFESSION 229 237\\nCOUNTRY 258 264\\nPROFESSION 31 38\\nORGANIZATION 39 43\\nPROFESSION 53 88\\nCOUNTRY 89 95\\nPERSON 96 123\\nCOUNTRY 167 173\\nPROFESSION 185 203\\nPERSON 204 216\\nORGANIZATION 1 14\\nCOUNTRY 71 77\\nPERSON 117 137\\nCOUNTRY 209 215\\nORGANIZATION 16 20\\nPROFESSION 22 43\\nLANGUAGE 71 81\\nDATE 96 105\\nAGE 135 151\\nORGANIZATION 5 9\\nORGANIZATION 30 34\\nORGANIZATION 104 125\\nCOUNTRY 140 144\\nCOUNTRY 146 151\\nCOUNTRY 153 159\\nCOUNTRY 161 168\\nCOUNTRY 170 179\\nCOUNTRY 181 186\\nCOUNTRY 188 196\\nCOUNTRY 198 204\\nCOUNTRY 206 213\\nCOUNTRY 215 218\\nCOUNTRY 220 225\\nCOUNTRY 227 233\\nCOUNTRY 235 243\\nCOUNTRY 246 252\\nCOUNTRY 254 263\\nCOUNTRY 265 286\\nCOUNTRY 395 403\\nCOUNTRY 406 415\\nORGANIZATION 427 431\\n063.ann\\nORGANIZATION 2 12\\nCOUNTRY 13 19\\nAGE 0 9\\nPROFESSION 10 23\\nPERSON 24 41\\nEVENT 42 55\\nPROFESSION 56 74\\nCOUNTRY 96 98\\nORGANIZATION 174 194\\nPROFESSION 6 32\\nEVENT 33 41\\nPROFESSION 42 53\\nCOUNTRY 63 89\\nPROFESSION 90 107\\nPERSON 108 127\\nORGANIZATION 12 44\\nORGANIZATION 45 48\\nORGANIZATION 49 57\\nORGANIZATION 58 73\\nCOUNTRY 74 76\\nEVENT 77 85\\nPROFESSION 86 103\\nPERSON 104 118\\nPROFESSION 151 164\\nPERSON 165 181\\nCOUNTRY 205 242\\nCOUNTRY 27 53\\nEVENT 54 62\\nPROFESSION 63 80\\nPERSON 81 96\\nEVENT 49 63\\nPROFESSION 64 75\\nCOUNTRY 85 119\\nPROFESSION 120 137\\nPERSON 138 152\\nPROFESSION 166 183\\nPERSON 184 200\\nCOUNTRY 27 55\\nPROFESSION 57 79\\nEVENT 80 102\\nORGANIZATION 114 146\\nORGANIZATION 147 155\\nORGANIZATION 156 158\\nCOUNTRY 159 161\\nPROFESSION 163 180\\nCOUNTRY 225 255\\nEVENT 256 264\\nPROFESSION 265 278\\nPERSON 279 293\\nPERSON 319 329\\nCOUNTRY 30 65\\nPERSON 110 126\\n064.ann\\nORGANIZATION 1 3\\nEVENT 15 25\\nORGANIZATION 35 51\\nORGANIZATION 18 38\\nPROFESSION 39 46\\nORGANIZATION 47 52\\nPERSON 53 70\\nEVENT 71 85\\nORGANIZATION 94 114\\nORGANIZATION 154 164\\nEVENT 27 37\\nPERSON 38 47\\nDATE 101 109\\nAGE 125 131\\nORGANIZATION 22 24\\nEVENT 37 47\\nCOUNTRY 69 86\\nPROFESSION 103 110\\nPERSON 122 137\\nEVENT 164 174\\nAGE 175 185\\nPERSON 186 194\\nEVENT 52 75\\nAGE 94 104\\nORGANIZATION 118 128\\nCOUNTRY 129 154\\nPROFESSION 155 162\\nPERSON 174 190\\nPERSON 202 210\\nPERSON 213 222\\nEVENT 243 264\\nCOUNTRY 267 274\\nDATE 275 294\\nEVENT 300 305\\nCOUNTRY 308 316\\nORGANIZATION 11 31\\nPROFESSION 44 52\\nORGANIZATION 53 69\\nPROFESSION 77 97\\nCOUNTRY 98 124\\nPERSON 125 144\\nPERSON 167 177\\nPROFESSION 180 202\\nPERSON 203 219\\nPROFESSION 227 238\\nCOUNTRY 239 272\\n073.ann\\nPROFESSION 0 7\\nORGANIZATION 8 12\\nEVENT 13 18\\nEVENT 21 24\\nCOUNTRY 27 33\\nPROFESSION 19 33\\nORGANIZATION 34 38\\nEVENT 39 44\\nEVENT 58 92\\nCOUNTRY 95 101\\nORGANIZATION 135 151\\nEVENT 0 3\\nTIME 14 38\\nCOUNTRY 64 75\\nCOUNTRY 86 93\\nPROFESSION 118 125\\nPERSON 126 151\\nPRODUCT 186 193\\nEVENT 195 203\\nPRODUCT 213 219\\nPROFESSION 267 274\\nEVENT 275 280\\nEVENT 12 18\\nNUMBER 29 42\\nNUMBER 56 60\\nDISEASE 77 98\\nCOUNTRY 15 23\\nAGE 25 34\\nPERSON 35 39\\nORDINAL 80 85\\nORGANIZATION 122 126\\nPROFESSION 161 168\\n075.ann\\nPERSON 0 9\\nEVENT 10 16\\nORGANIZATION 28 31\\nCOUNTRY 32 47\\nORGANIZATION 10 13\\nCOUNTRY 14 29\\nPERSON 30 44\\nEVENT 45 79\\nORGANIZATION 95 104\\nORGANIZATION 133 136\\nPROFESSION 157 172\\nPERSON 173 188\\nPROFESSION 202 212\\nCOUNTRY 213 215\\nPERSON 216 233\\nEVENT 0 8\\nPERSON 9 17\\nCITY 30 37\\nPROFESSION 38 48\\nEVENT 55 73\\nPERSON 85 103\\nPROFESSION 118 130\\nDATE 132 150\\nAGE 151 161\\nPROFESSION 162 172\\nEVENT 173 195\\nEVENT 205 210\\nAGE 211 220\\nPERSON 221 235\\nPERSON 237 243\\nEVENT 244 264\\nEVENT 266 280\\nDATE 285 294\\nEVENT 298 307\\nDISEASE 311 343\\nPERSON 0 6\\nPERSON 148 155\\n078.ann\\nPROFESSION 0 19\\nORGANIZATION 20 34\\nEVENT 35 43\\nPERSON 44 53\\nPROFESSION 0 29\\nCOUNTRY 30 43\\nORGANIZATION 61 80\\nPERSON 81 95\\nEVENT 96 104\\nPROFESSION 105 124\\nDATE 187 194\\nORGANIZATION 205 221\\nAGE 223 232\\nPERSON 233 242\\nPROFESSION 247 276\\nORGANIZATION 277 279\\nEVENT 305 313\\nPERSON 337 353\\nORGANIZATION 12 14\\nORGANIZATION 73 75\\nPERSON 176 185\\nCOUNTRY 251 254\\nCOUNTRY 257 263\\n094.ann\\nNATIONALITY 0 8\\nPROFESSION 25 33\\nCOUNTRY 0 14\\nPROFESSION 31 47\\nORDINAL 57 63\\nDATE 64 75\\nORGANIZATION 76 102\\nEVENT 110 121\\nIDEOLOGY 124 138\\nORGANIZATION 139 172\\nORGANIZATION 223 236\\nCOUNTRY 244 254\\nIDEOLOGY 276 289\\nPERSON 290 303\\nEVENT 311 334\\nPERSON 335 358\\nIDEOLOGY 359 370\\nDATE 388 399\\nEVENT 417 438\\nDATE 439 444\\nNUMBER 459 462\\nPROFESSION 463 474\\nNUMBER 529 532\\nIDEOLOGY 0 12\\nNUMBER 66 69\\nORGANIZATION 129 142\\nPROFESSION 170 182\\nAGE 184 193\\nIDEOLOGY 200 213\\nORGANIZATION 296 330\\nEVENT 353 374\\nORDINAL 385 392\\nNUMBER 412 414\\nORGANIZATION 13 21\\nPERSON 23 30\\nCOUNTRY 50 60\\nPROFESSION 61 70\\nDATE 71 82\\nAGE 106 115\\nPERSON 116 136\\nORDINAL 138 141\\nPERSON 147 156\\nPERSON 158 167\\nEVENT 178 184\\nFACILITY 187 199\\nCOUNTRY 203 216\\nDATE 217 225\\nDATE 234 241\\nPERSON 254 267\\nIDEOLOGY 30 44\\nIDEOLOGY 47 59\\nIDEOLOGY 60 71\\nPERSON 89 98\\nPROFESSION 112 126\\nORGANIZATION 152 156\\nNUMBER 181 187\\nCOUNTRY 203 213\\nPROFESSION 0 18\\nPERSON 43 56\\nPERSON 88 103\\nIDEOLOGY 104 115\\nPERSON 116 129\\nORGANIZATION 131 146\\nPROFESSION 158 189\\nPERSON 190 201\\nPROFESSION 205 222\\nPERSON 230 239\\nPERSON 0 7\\nIDEOLOGY 23 36\\nIDEOLOGY 110 121\\nIDEOLOGY 122 132\\nPERSON 133 142\\nDATE 0 10\\nEVENT 33 42\\nPROFESSION 45 53\\nPERSON 54 66\\nCOUNTRY 69 88\\nPERSON 89 104\\nEVENT 105 114\\nPERSON 115 126\\nEVENT 138 158\\nCOUNTRY 176 187\\nPROFESSION 188 204\\nCOUNTRY 214 231\\nDATE 232 242\\nPERSON 0 7\\nPERSON 10 15\\nCOUNTRY 59 70\\nPERSON 105 119\\nPERSON 142 152\\nPERSON 167 174\\nCOUNTRY 225 236\\nDATE 272 290\\nPERSON 11 23\\nCOUNTRY 133 146\\nORGANIZATION 185 205\\nCOUNTRY 270 289\\nPERSON 332 344\\n096.ann\\nPERSON 0 8\\nEVENT 9 17\\nORGANIZATION 36 44\\nPROFESSION 0 9\\nCOUNTRY 10 17\\nPERSON 18 33\\nEVENT 34 42\\nORGANIZATION 55 73\\nCOUNTRY 90 97\\nPROFESSION 98 116\\nPERSON 117 134\\nORGANIZATION 18 25\\nPERSON 49 57\\nPROFESSION 76 103\\nDATE 120 143\\nEVENT 144 160\\nPROFESSION 170 185\\nPERSON 186 198\\nPERSON 0 8\\nEVENT 9 16\\nDATE 17 35\\nCOUNTRY 43 52\\nCOUNTRY 53 69\\nDATE 71 82\\nORGANIZATION 91 140\\nCOUNTRY 162 169\\nCOUNTRY 173 188\\nPROFESSION 211 220\\nPROFESSION 224 241\\nCOUNTRY 245 255\\nORGANIZATION 305 337\\nCOUNTRY 347 358\\nDATE 0 11\\nEVENT 19 35\\nPERSON 36 50\\nPROFESSION 62 77\\nPERSON 78 95\\nEVENT 96 136\\nCRIME 148 157\\nPERSON 0 8\\nCITY 19 27\\nPERSON 47 64\\nPROFESSION 90 99\\nORGANIZATION 206 214\\nAGE 225 234\\nORGANIZATION 247 267\\nPROFESSION 268 285\\nPERSON 286 303\\nPERSON 75 90\\nEVENT 127 139\\nORGANIZATION 144 160\\nPERSON 0 8\\nPERSON 60 70\\nPERSON 88 103\\n1003.ann\\nEVENT 11 36\\nCOUNTRY 49 58\\nCOUNTRY 2 11\\nCOUNTRY 33 47\\nNUMBER 61 66\\nPROFESSION 106 119\\nPROFESSION 128 164\\nPROFESSION 167 177\\nCOUNTRY 21 35\\nNUMBER 49 54\\nPROFESSION 94 107\\nPROFESSION 116 152\\nPROFESSION 155 165\\nDATE 173 182\\nORGANIZATION 190 211\\nNUMBER 26 40\\nNUMBER 55 58\\nDATE 110 123\\nMONEY 144 162\\nPROFESSION 28 43\\nNATIONALITY 139 149\\nPERSON 150 176\\nNATIONALITY 178 186\\nPERSON 187 199\\nPROFESSION 207 217\\nORGANIZATION 228 261\\nNATIONALITY 265 273\\nPERSON 274 300\\nNATIONALITY 50 61\\nPERSON 62 89\\nPROFESSION 106 116\\nCOUNTRY 125 135\\nNATIONALITY 137 147\\nPERSON 148 167\\nPROFESSION 194 205\\nNATIONALITY 252 259\\nPERSON 260 283\\nCOUNTRY 317 324\\nORGANIZATION 0 20\\nCOUNTRY 21 30\\nORDINAL 38 44\\nDATE 76 87\\nEVENT 102 144\\nAGE 153 162\\nNATIONALITY 163 171\\nPERSON 172 184\\nPROFESSION 199 231\\n1013.ann\\nPROFESSION 0 7\\nPERSON 8 26\\nORGANIZATION 11 24\\nPERSON 38 46\\nNUMBER 60 65\\nPROFESSION 66 81\\nPERSON 0 13\\nPROFESSION 6 21\\nCOUNTRY 22 31\\nPERSON 32 45\\nDATE 59 65\\nORGANIZATION 104 110\\nCOUNTRY 136 148\\nORGANIZATION 149 162\\nORGANIZATION 42 87\\nPERSON 88 100\\nPERSON 1 9\\nAGE 43 54\\nNUMBER 57 62\\nPROFESSION 63 78\\nPERSON 110 121\\nPROFESSION 23 29\\nPERSON 30 43\\nDATE 44 50\\nORGANIZATION 69 95\\nEVENT 98 112\\nORGANIZATION 161 168\\nDATE 183 202\\nORGANIZATION 219 232\\nEVENT 233 255\\nORGANIZATION 312 316\\nORGANIZATION 319 324\\nPERSON 0 8\\nDATE 19 28\\nAGE 40 46\\nPROFESSION 53 62\\nDATE 79 96\\nEVENT 97 113\\nCOUNTRY 128 134\\nPROFESSION 161 176\\nPERSON 177 187\\nPERSON 0 5\\nCOUNTRY 8 17\\nORGANIZATION 13 62\\nCOUNTRY 108 136\\n1015.ann\\nPROFESSION 19 23\\nCOUNTRY 24 30\\nNUMBER 42 44\\nORDINAL 0 11\\nPROFESSION 42 57\\nPROFESSION 63 76\\nPERSON 77 93\\nPROFESSION 25 29\\nCOUNTRY 30 36\\nNUMBER 85 87\\nORGANIZATION 97 108\\nORGANIZATION 133 148\\nPERSON 17 23\\nPERSON 24 33\\nDATE 35 44\\nPROFESSION 67 82\\nPERSON 6 14\\nNUMBER 36 38\\nORGANIZATION 94 98\\nPERSON 101 116\\nORGANIZATION 121 125\\nPERSON 128 142\\nORGANIZATION 155 161\\nPERSON 165 180\\nIDEOLOGY 182 194\\nPERSON 195 212\\nORGANIZATION 216 228\\nPERSON 230 246\\nORGANIZATION 258 262\\nPERSON 281 295\\nCOUNTRY 107 113\\n1021.ann\\nSTATE_OR_PROVINCE 0 15\\nPROFESSION 16 33\\nEVENT 34 57\\nPROFESSION 0 17\\nCOUNTRY 18 41\\nPERSON 42 55\\nEVENT 56 79\\nPROFESSION 111 130\\nPERSON 137 156\\nPROFESSION 175 235\\nORGANIZATION 245 256\\nORGANIZATION 271 287\\nCOUNTRY 70 76\\nAGE 103 115\\nCITY 149 156\\nPERSON 174 181\\nEVENT 233 243\\nDATE 263 272\\nPROFESSION 281 288\\nDATE 314 333\\nPROFESSION 6 13\\nPERSON 32 51\\nPROFESSION 67 127\\nORGANIZATION 128 141\\nCOUNTRY 142 165\\nLAW 193 244\\nDATE 312 324\\nPERSON 0 9\\nORGANIZATION 19 58\\nDATE 59 70\\nORGANIZATION 151 194\\nCOUNTRY 195 218\\nCOUNTRY 245 268\\nCOUNTRY 0 23\\nORGANIZATION 25 44\\n1050.ann\\nPROFESSION 0 4\\nCOUNTRY 5 11\\nPROFESSION 33 44\\nPROFESSION 0 4\\nCOUNTRY 5 11\\nPROFESSION 12 16\\nPERSON 17 41\\nEVENT 42 52\\nDATE 53 66\\nPROFESSION 77 88\\nPROFESSION 117 128\\nPROFESSION 196 213\\nPROFESSION 214 219\\nPERSON 220 226\\nORGANIZATION 247 253\\nCOUNTRY 268 277\\nORGANIZATION 289 300\\nORGANIZATION 1 12\\nCOUNTRY 65 71\\nDATE 6 19\\nPROFESSION 66 70\\nCOUNTRY 71 77\\nAGE 95 101\\nAGE 145 155\\nPROFESSION 156 173\\nPROFESSION 260 275\\nPROFESSION 278 301\\nCOUNTRY 302 308\\nPROFESSION 309 313\\nPERSON 314 339\\nPROFESSION 21 30\\nLOCATION 31 39\\nLOCATION 42 56\\nPROFESSION 145 155\\nORGANIZATION 181 185\\nCOUNTRY 232 238\\nDATE 259 271\\nPERSON 30 41\\nPERSON 43 67\\nEVENT 68 75\\nDATE 76 87\\nORDINAL 99 105\\nPROFESSION 112 117\\nORDINAL 124 130\\nPERSON 136 152\\nPROFESSION 164 169\\nORGANIZATION 197 212\\nORGANIZATION 238 259\\n1106.ann\\nORGANIZATION 0 22\\nSTATE_OR_PROVINCE 25 35\\nORGANIZATION 53 56\\nCOUNTRY 57 75\\nORGANIZATION 6 9\\nCOUNTRY 10 28\\nDISEASE 0 16\\nSTATE_OR_PROVINCE 38 48\\nORGANIZATION 71 98\\nDATE 101 115\\nORDINAL 120 126\\nEVENT 135 163\\nCOUNTRY 220 237\\nORGANIZATION 259 262\\nPROFESSION 265 276\\nDISEASE 301 318\\nORDINAL 2 8\\nNUMBER 59 65\\nCOUNTRY 98 114\\nNUMBER 134 137\\nNUMBER 226 234\\nMONEY 304 313\\nORDINAL 3 9\\nNUMBER 39 45\\nNUMBER 56 60\\nCOUNTRY 78 88\\nCOUNTRY 90 102\\nCOUNTRY 104 116\\nCOUNTRY 118 128\\nCOUNTRY 130 143\\nCOUNTRY 145 155\\nCOUNTRY 158 168\\nDATE 330 340\\nNUMBER 88 100\\nPROFESSION 217 227\\nCOUNTRY 228 246\\nPERSON 247 257\\nCOUNTRY 53 59\\nCOUNTRY 60 78\\nNUMBER 93 114\\nDATE 173 201\\nORGANIZATION 213 229\\nTIME 232 247\\nNATIONALITY 59 65\\nNATIONALITY 236 243\\nCOUNTRY 285 295\\nNATIONALITY 318 328\\nNATIONALITY 13 23\\nDATE 109 135\\nNUMBER 16 31\\nORDINAL 118 124\\nCOUNTRY 189 192\\nPERSON 377 383\\nDATE 558 568\\nDATE 46 56\\nNATIONALITY 57 63\\nNATIONALITY 111 118\\nDATE 169 179\\nPERSON 220 227\\nCOUNTRY 2 9\\nDISEASE 89 115\\nORGANIZATION 133 136\\nFACILITY 181 217\\nORGANIZATION 226 245\\nDATE 28 39\\nMONEY 69 101\\nORGANIZATION 34 41\\nORGANIZATION 173 222\\nPERSON 223 241\\nMONEY 323 338\\nNUMBER 83 84\\nNUMBER 85 86\\nORGANIZATION 120 141\\nORGANIZATION 154 174\\nMONEY 215 228\\nCITY 12 23\\nPERSON 32 43\\nCITY 60 74\\nORGANIZATION 76 80\\nDATE 103 121\\nEVENT 124 152\\nEVENT 165 169\\nCOUNTRY 195 201\\nCOUNTRY 204 221\\nDATE 234 247\\nCOUNTRY 311 322\\nPERSON 354 361\\nDISEASE 362 391\\nORGANIZATION 403 419\\nPERSON 0 3\\nCOUNTRY 44 50\\nCOUNTRY 53 63\\nPERSON 65 69\\nCOUNTRY 81 87\\nORDINAL 120 126\\nPROFESSION 127 133\\nPERSON 134 149\\nDATE 152 166\\nCOUNTRY 195 202\\nPERSON 204 207\\nPROFESSION 258 268\\nCITY 292 302\\nORGANIZATION 304 312\\nPERSON 363 369\\nORGANIZATION 400 404\\nDATE 410 416\\nDATE 0 13\\nCOUNTRY 21 28\\nORDINAL 103 109\\nCOUNTRY 115 126\\nORGANIZATION 183 190\\nORGANIZATION 195 212\\nORGANIZATION 222 233\\nORGANIZATION 282 289\\nORGANIZATION 303 311\\nORGANIZATION 371 378\\nORGANIZATION 405 408\\nORGANIZATION 467 478\\nORGANIZATION 22 29\\nORDINAL 37 50\\nORGANIZATION 65 70\\nORDINAL 72 78\\nORGANIZATION 86 102\\nORDINAL 106 112\\nORDINAL 115 122\\nDATE 36 45\\nEVENT 72 89\\nPROFESSION 162 184\\nPERSON 198 215\\nORGANIZATION 231 242\\nDATE 257 264\\nORGANIZATION 328 344\\nORGANIZATION 354 362\\nORDINAL 373 379\\nEVENT 70 87\\nPROFESSION 88 117\\nPERSON 118 133\\nCITY 166 176\\nORGANIZATION 287 294\\nORGANIZATION 390 406\\nORDINAL 439 446\\nORGANIZATION 465 476\\nORGANIZATION 62 78\\nPROFESSION 84 100\\nPERSON 126 141\\nORGANIZATION 17 23\\nORGANIZATION 116 131\\nDATE 162 175\\nMONEY 187 200\\nCOUNTRY 255 273\\nDATE 56 69\\nORGANIZATION 95 106\\nPROFESSION 120 127\\nPERSON 128 143\\nPROFESSION 145 151\\nPERSON 152 164\\nPERSON 167 181\\nPROFESSION 190 197\\nSTATE_OR_PROVINCE 214 224\\nPROFESSION 225 232\\nPROFESSION 251 262\\nDATE 10 21\\nPERSON 104 121\\nDATE 155 163\\nSTATE_OR_PROVINCE 68 78\\nEVENT 103 124\\nORGANIZATION 125 188\\nORGANIZATION 197 213\\nDATE 216 239\\nNUMBER 279 282\\nNUMBER 348 351\\nNUMBER 370 381\\nNUMBER 441 446\\nDATE 22 33\\nDATE 139 153\\nNUMBER 173 176\\nDATE 201 212\\nLAW 251 288\\nPROFESSION 0 10\\nPERSON 11 21\\nLAW 431 457\\n1109.ann\\nEVENT 0 19\\nCOUNTRY 22 27\\nPROFESSION 18 33\\nPERSON 34 44\\nEVENT 45 77\\nPROFESSION 78 88\\nCOUNTRY 89 94\\nPERSON 95 108\\nPROFESSION 119 127\\nCOUNTRY 131 138\\nLAW 139 150\\nORGANIZATION 174 187\\nDATE 216 229\\nEVENT 239 265\\nCOUNTRY 268 273\\nNUMBER 361 364\\nORGANIZATION 371 388\\nIDEOLOGY 389 408\\nNUMBER 428 435\\nORGANIZATION 436 442\\nORGANIZATION 445 485\\nORGANIZATION 488 529\\nORGANIZATION 532 538\\nIDEOLOGY 541 546\\nORGANIZATION 559 603\\nORGANIZATION 606 629\\nCOUNTRY 630 635\\nCOUNTRY 638 652\\nCOUNTRY 670 675\\nPERSON 676 691\\nPROFESSION 30 39\\nPROFESSION 62 88\\nPERSON 142 147\\nPROFESSION 200 210\\nCOUNTRY 211 216\\nCOUNTRY 264 271\\nDATE 294 306\\nPERSON 323 328\\nCOUNTRY 341 355\\nORGANIZATION 361 374\\nIDEOLOGY 388 397\\nPERSON 398 404\\nEVENT 431 435\\nPERSON 520 525\\nPROFESSION 607 620\\nPERSON 660 666\\nCOUNTRY 755 760\\nPERSON 52 58\\nNUMBER 64 67\\nCOUNTRY 81 88\\nEVENT 164 185\\nDATE 186 201\\nDATE 211 225\\nIDEOLOGY 269 286\\nORGANIZATION 383 396\\nORGANIZATION 398 413\\nORGANIZATION 526 529\\nPERSON 530 541\\nPROFESSION 639 648\\nPERSON 649 654\\nORGANIZATION 667 680\\nPERSON 849 855\\nPROFESSION 883 891\\nDATE 935 966\\nORGANIZATION 0 26\\nORGANIZATION 30 33\\nORGANIZATION 35 41\\nIDEOLOGY 67 77\\nIDEOLOGY 78 93\\nORGANIZATION 94 98\\nORGANIZATION 126 139\\nORGANIZATION 158 161\\nDATE 194 211\\nEVENT 212 238\\nPROFESSION 247 263\\nPROFESSION 266 303\\nPERSON 304 321\\nDATE 323 332\\nIDEOLOGY 362 373\\nPERSON 463 481\\nPERSON 495 503\\nORGANIZATION 530 535\\nPROFESSION 593 601\\nPERSON 644 651\\nCOUNTRY 661 668\\nORGANIZATION 678 686\\nORGANIZATION 712 725\\nNUMBER 750 753\\nNUMBER 763 766\\nORGANIZATION 783 796\\nPERSON 797 805\\nNUMBER 833 837\\nEVENT 855 866\\nPROFESSION 894 903\\nPERSON 904 909\\nIDEOLOGY 919 934\\nNATIONALITY 964 969\\nORGANIZATION 980 1007\\nDATE 0 17\\nPROFESSION 18 27\\nCOUNTRY 28 33\\nPERSON 34 45\\nPROFESSION 87 103\\nAGE 117 126\\nPERSON 127 138\\nPERSON 156 162\\nPERSON 181 187\\nDATE 190 205\\nPROFESSION 214 232\\nORGANIZATION 235 248\\nPERSON 249 255\\nORGANIZATION 271 297\\nPERSON 298 314\\nDATE 317 332\\nPERSON 333 339\\nPROFESSION 361 395\\nPERSON 408 414\\nDATE 422 435\\nDATE 451 469\\nEVENT 473 480\\nORGANIZATION 483 487\\nEVENT 495 504\\nPROFESSION 523 532\\nPERSON 533 546\\nPERSON 612 619\\nORGANIZATION 695 723\\nDATE 725 743\\nPERSON 744 750\\nEVENT 751 763\\nORGANIZATION 764 768\\nDATE 770 785\\nORGANIZATION 805 840\\nORGANIZATION 841 854\\nCOUNTRY 855 873\\nPERSON 875 880\\nEVENT 881 889\\nPERSON 890 897\\nPROFESSION 941 950\\nDATE 989 1004\\nPERSON 1006 1011\\nORGANIZATION 1078 1091\\nCOUNTRY 1092 1099\\nDATE 1126 1143\\nDATE 1217 1233\\nPERSON 1236 1242\\nCOUNTRY 1372 1381\\nORGANIZATION 1566 1574\\nPERSON 1616 1621\\nNATIONALITY 1635 1640\\nPERSON 1677 1684\\nPERSON 0 6\\nORGANIZATION 74 101\\nORGANIZATION 127 140\\nDATE 141 154\\nPROFESSION 164 187\\nORGANIZATION 190 210\\nPERSON 211 218\\nPERSON 227 241\\nPERSON 305 315\\nDATE 316 333\\nORGANIZATION 382 385\\nPROFESSION 391 400\\nPERSON 401 439\\nPERSON 442 448\\nPERSON 0 11\\nORGANIZATION 44 57\\nIDEOLOGY 88 106\\nIDEOLOGY 115 131\\nEVENT 174 181\\nNUMBER 277 280\\nORGANIZATION 314 318\\nCOUNTRY 319 326\\nIDEOLOGY 331 347\\nIDEOLOGY 385 396\\nEVENT 435 443\\nORGANIZATION 444 468\\nIDEOLOGY 485 502\\nORGANIZATION 573 586\\nORGANIZATION 609 613\\nPROFESSION 655 671\\nPERSON 672 687\\nIDEOLOGY 695 712\\nPERSON 713 729\\nPERSON 753 760\\nPROFESSION 769 777\\nPERSON 778 785\\nIDEOLOGY 864 875\\nPERSON 876 888\\nIDEOLOGY 0 14\\nPERSON 47 53\\nPROFESSION 65 74\\nORGANIZATION 141 154\\nORGANIZATION 221 231\\nIDEOLOGY 248 262\\nPERSON 331 338\\nDATE 0 18\\nPERSON 65 78\\nORGANIZATION 122 135\\nPROFESSION 174 181\\nORGANIZATION 182 195\\nPERSON 196 214\\nPROFESSION 223 239\\nORGANIZATION 247 274\\nORGANIZATION 275 278\\nORGANIZATION 281 287\\nNUMBER 328 331\\nPROFESSION 334 343\\nDATE 386 410\\nPROFESSION 442 453\\nPERSON 459 476\\nCOUNTRY 2 9\\nORGANIZATION 10 13\\nORGANIZATION 56 62\\nPERSON 63 84\\nORGANIZATION 104 117\\nORGANIZATION 118 135\\nPROFESSION 144 154\\nPERSON 155 161\\nPERSON 164 169\\nORGANIZATION 200 213\\nPROFESSION 250 275\\nPERSON 276 296\\nCOUNTRY 401 407\\nCOUNTRY 410 420\\nCOUNTRY 433 440\\nPERSON 441 446\\nPERSON 473 489\\nORDINAL 492 499\\nCOUNTRY 500 514\\nPROFESSION 515 525\\nPROFESSION 528 539\\nCOUNTRY 540 547\\nORGANIZATION 560 574\\nCOUNTRY 578 586\\nPERSON 598 604\\nCOUNTRY 648 653\\nPERSON 654 668\\nDATE 0 7\\nEVENT 19 28\\nORGANIZATION 54 94\\nPERSON 134 146\\nPROFESSION 187 198\\nORGANIZATION 212 225\\nORGANIZATION 227 230\\nEVENT 269 276\\nIDEOLOGY 297 306\\nORGANIZATION 333 346\\nCOUNTRY 365 372\\nORGANIZATION 373 383\\nNUMBER 419 422\\nPROFESSION 429 438\\nEVENT 9 36\\nDATE 51 58\\nORGANIZATION 86 95\\nNATIONALITY 104 109\\nPERCENT 153 156\\nORGANIZATION 191 204\\nCOUNTRY 205 212\\nPERCENT 218 221\\nORGANIZATION 244 266\\nORGANIZATION 267 274\\nNUMBER 275 277\\nPROFESSION 280 289\\nPERSON 290 309\\nPERCENT 320 323\\nPERCENT 430 433\\nPROFESSION 461 470\\nLAW 483 494\\nPERSON 513 525\\nPERSON 9 15\\nCOUNTRY 24 29\\nPROFESSION 92 102\\nPERSON 115 122\\nORGANIZATION 151 159\\nPERSON 218 224\\nORGANIZATION 280 293\\nPERSON 294 301\\nNUMBER 350 353\\nPROFESSION 374 382\\nORGANIZATION 416 426\\nIDEOLOGY 482 499\\nORGANIZATION 539 564\\nPERSON 565 572\\nEVENT 609 630\\nDATE 658 676\\nPROFESSION 687 696\\nORGANIZATION 697 730\\nDATE 747 757\\nDATE 790 805\\nCOUNTRY 979 984\\nDATE 1006 1033\\nIDEOLOGY 1059 1073\\nEVENT 1131 1152\\nORGANIZATION 1166 1169\\nORGANIZATION 1172 1178\\nCOUNTRY 1391 1396\\nEVENT 1405 1428\\nPERSON 1449 1457\\nNUMBER 1460 1464\\nPROFESSION 1472 1481\\nORGANIZATION 1485 1488\\nPERSON 1490 1496\\nORGANIZATION 1518 1526\\nCOUNTRY 1595 1600\\nCOUNTRY 1675 1680\\nNATIONALITY 1767 1772\\nNATIONALITY 1832 1838\\nCOUNTRY 32 38\\nEVENT 45 52\\nORGANIZATION 53 61\\nPERSON 62 68\\nPROFESSION 79 88\\nPERSON 89 100\\nCOUNTRY 199 206\\nORGANIZATION 225 238\\nPROFESSION 248 258\\nPERSON 259 265\\nPROFESSION 267 290\\nCOUNTRY 291 296\\nNATIONALITY 297 302\\nPERSON 303 319\\nCOUNTRY 362 367\\nDATE 382 394\\nLOCATION 410 428\\nCOUNTRY 438 443\\nCOUNTRY 461 479\\nPERSON 509 515\\nCOUNTRY 562 567\\nCOUNTRY 624 631\\nPROFESSION 766 777\\nPROFESSION 857 866\\nPERSON 867 872\\nIDEOLOGY 883 888\\nIDEOLOGY 931 937\\nCOUNTRY 1005 1023\\nCOUNTRY 1084 1089\\nPERSON 1126 1133\\nCOUNTRY 1236 1248\\nIDEOLOGY 1265 1277\\nCOUNTRY 1307 1313\\nORGANIZATION 28 41\\nORGANIZATION 262 295\\n1112.ann\\nPERSON 0 7\\nPERSON 54 59\\nPERSON 0 5\\nEVENT 18 25\\nCOUNTRY 28 31\\nPROFESSION 33 42\\nCOUNTRY 43 46\\nEVENT 47 57\\nPERSON 67 83\\nEVENT 86 107\\nAGE 116 126\\nPROFESSION 127 135\\nPERSON 136 148\\nPROFESSION 207 217\\nCOUNTRY 218 221\\nPROFESSION 0 9\\nCOUNTRY 10 13\\nPERSON 14 25\\nEVENT 41 48\\nCOUNTRY 51 54\\nEVENT 56 66\\nDATE 67 76\\nCOUNTRY 79 92\\nPROFESSION 110 120\\nCOUNTRY 121 124\\nPERSON 125 141\\nCOUNTRY 151 160\\nPERSON 13 18\\nPERSON 49 56\\nEVENT 59 79\\nPERSON 92 104\\nAGE 155 165\\nPROFESSION 166 174\\nPERSON 176 183\\nDISEASE 196 217\\nPERSON 221 226\\nPROFESSION 10 20\\nCOUNTRY 21 24\\nPERSON 47 54\\nPERSON 113 120\\nCOUNTRY 173 185\\nPERSON 288 293\\nDATE 0 13\\nPERSON 14 21\\nEVENT 22 39\\nCOUNTRY 42 50\\nDATE 82 102\\nDATE 165 174\\nPROFESSION 175 184\\nCOUNTRY 185 188\\nPERSON 189 201\\nPERSON 215 222\\nDISEASE 247 268\\n1113.ann\\nPERSON 0 5\\nPERSON 52 59\\nPERSON 0 5\\nEVENT 18 25\\nCOUNTRY 28 31\\nPROFESSION 48 57\\nCOUNTRY 58 61\\nCOUNTRY 81 93\\nPERSON 135 142\\nPROFESSION 177 185\\nPROFESSION 0 9\\nCOUNTRY 10 13\\nPERSON 14 25\\nEVENT 35 41\\nCOUNTRY 44 47\\nDATE 48 61\\nEVENT 62 69\\nCOUNTRY 77 89\\nDATE 125 136\\nIDEOLOGY 196 205\\nPERSON 206 221\\nPERSON 242 253\\nPERSON 15 20\\nPERSON 63 70\\nDISEASE 89 103\\nAGE 104 114\\nPROFESSION 115 123\\nCOUNTRY 144 156\\nDATE 162 180\\nORDINAL 205 211\\nPROFESSION 223 232\\nCOUNTRY 233 236\\nNUMBER 250 263\\nCOUNTRY 267 276\\nPERSON 9 14\\nPERSON 34 41\\nPERSON 47 54\\nDISEASE 67 88\\nPERSON 92 97\\nDATE 0 13\\nPERSON 14 21\\nEVENT 22 39\\nCOUNTRY 42 50\\nDATE 82 102\\nDATE 165 174\\nPROFESSION 175 184\\nCOUNTRY 185 188\\nPERSON 189 201\\nPERSON 215 222\\nDISEASE 247 268\\nPERSON 41 48\\nCOUNTRY 127 130\\n1114.ann\\nORGANIZATION 0 7\\nPROFESSION 15 63\\nCOUNTRY 6 17\\nPERSON 36 50\\nFACILITY 127 138\\nORGANIZATION 1 8\\nFACILITY 80 91\\nORGANIZATION 104 126\\nCOUNTRY 142 153\\nPERSON 172 186\\nORGANIZATION 51 56\\nPERSON 144 150\\nEVENT 154 171\\nDATE 0 11\\nORGANIZATION 12 34\\nPERSON 47 61\\nDATE 72 85\\nCOUNTRY 125 135\\nORGANIZATION 158 165\\nCOUNTRY 177 190\\nORGANIZATION 191 198\\nORGANIZATION 21 26\\nPROFESSION 35 81\\nORGANIZATION 110 118\\nPERSON 120 132\\nAGE 134 143\\nPROFESSION 144 156\\nDATE 234 245\\nPROFESSION 246 331\\nORGANIZATION 357 365\\nFACILITY 31 44\\nNUMBER 47 67\\nCOUNTRY 75 87\\nDATE 112 140\\nCOUNTRY 112 119\\nCOUNTRY 130 135\\nCOUNTRY 284 290\\n1130.ann\\nNATIONALITY 0 9\\nPROFESSION 10 16\\nPERSON 17 28\\nEVENT 29 38\\nORGANIZATION 40 46\\nCOUNTRY 49 55\\nNATIONALITY 0 9\\nPROFESSION 10 16\\nPERSON 17 28\\nPROFESSION 40 56\\nORGANIZATION 76 82\\nCOUNTRY 85 91\\nAGE 105 114\\nPROFESSION 22 38\\nORGANIZATION 40 47\\nPERSON 49 55\\nNATIONALITY 64 75\\nPROFESSION 76 87\\nPERSON 88 105\\nPERSON 33 39\\nORGANIZATION 52 56\\nCOUNTRY 106 113\\n114.ann\\nPROFESSION 0 9\\nORGANIZATION 10 18\\nEVENT 30 46\\nPERSON 0 27\\nDATE 29 45\\nPROFESSION 62 72\\nORGANIZATION 86 94\\nEVENT 107 123\\nORGANIZATION 134 150\\nPERSON 29 35\\nPROFESSION 45 65\\nDATE 66 91\\nDATE 114 130\\nPERSON 197 203\\nPERSON 0 6\\nDATE 134 151\\nAGE 157 166\\nPERSON 167 179\\nORGANIZATION 215 223\\nPERSON 6 18\\nORGANIZATION 91 99\\nPERSON 130 137\\nORGANIZATION 141 149\\nPERSON 266 272\\nORGANIZATION 311 319\\nORGANIZATION 340 360\\nORGANIZATION 365 374\\nORGANIZATION 405 414\\nPERSON 434 473\\nORGANIZATION 518 521\\n116.ann\\nCOUNTRY 24 30\\nPROFESSION 38 56\\nCOUNTRY 57 71\\nPERSON 0 11\\nPROFESSION 13 43\\nORGANIZATION 50 54\\nEVENT 62 70\\nPROFESSION 71 89\\nORGANIZATION 92 105\\nCOUNTRY 106 120\\nORGANIZATION 139 146\\nEVENT 177 185\\nPERSON 186 191\\nDATE 215 225\\nAGE 0 9\\nPERSON 10 14\\nORGANIZATION 32 36\\nDATE 37 48\\nDATE 50 61\\nPROFESSION 62 74\\nPROFESSION 86 98\\nDATE 108 119\\nPROFESSION 122 152\\nPERSON 173 178\\nORGANIZATION 190 194\\nDATE 0 16\\nPROFESSION 22 39\\nCOUNTRY 40 54\\nORGANIZATION 57 82\\nPERSON 91 103\\nPROFESSION 112 142\\nORGANIZATION 143 166\\nORGANIZATION 168 194\\nCOUNTRY 195 205\\nIDEOLOGY 206 219\\nIDEOLOGY 222 233\\nIDEOLOGY 234 244\\nPERSON 304 310\\nPROFESSION 322 332\\nORGANIZATION 0 4\\nCOUNTRY 24 30\\n117.ann\\nPERSON 0 7\\nEVENT 8 16\\nPROFESSION 24 62\\nPROFESSION 0 9\\nCOUNTRY 10 13\\nPERSON 14 25\\nEVENT 47 57\\nPERSON 58 71\\nPROFESSION 78 117\\nORGANIZATION 163 177\\nCOUNTRY 178 181\\nPERSON 182 196\\nORGANIZATION 14 38\\nEVENT 92 100\\nPERSON 101 103\\nPERSON 104 110\\nCOUNTRY 13 25\\nORGANIZATION 26 29\\nAGE 31 40\\nPERSON 41 50\\nPROFESSION 68 82\\nCOUNTRY 111 123\\nPROFESSION 163 178\\nCOUNTRY 179 182\\nPERSON 183 194\\nPERSON 201 211\\nPERSON 212 217\\nPROFESSION 227 237\\nPROFESSION 244 252\\nDATE 254 275\\nPERSON 276 286\\nCOUNTRY 334 345\\nPROFESSION 22 30\\nPROFESSION 72 79\\nPERSON 80 82\\nPERSON 83 88\\nEVENT 96 104\\nORGANIZATION 108 130\\nDATE 154 163\\nPROFESSION 283 292\\nCOUNTRY 304 307\\nDATE 308 326\\nEVENT 34 42\\nCOUNTRY 75 86\\nPERSON 87 97\\nPROFESSION 141 145\\nCOUNTRY 146 152\\nPROFESSION 164 173\\nCOUNTRY 200 206\\nPROFESSION 223 256\\nPERSON 334 347\\nPROFESSION 390 399\\nCOUNTRY 400 403\\nEVENT 404 412\\nPROFESSION 422 431\\nCOUNTRY 432 443\\nPERSON 444 454\\nPROFESSION 465 499\\n122.ann\\nNUMBER 0 4\\nNUMBER 8 12\\nPROFESSION 20 33\\nEVENT 41 47\\nORGANIZATION 51 60\\nPROFESSION 0 43\\nCOUNTRY 49 62\\nORGANIZATION 92 101\\nPERSON 102 110\\nEVENT 111 128\\nPROFESSION 146 177\\nORGANIZATION 178 187\\nPERSON 188 199\\nPERSON 0 6\\nPERSON 125 137\\nEVENT 147 155\\nAGE 156 166\\nPERSON 167 173\\nPERSON 210 219\\nPERSON 268 274\\nCOUNTRY 10 22\\nEVENT 50 55\\nPERSON 56 62\\nORGANIZATION 66 75\\nPROFESSION 104 124\\nORGANIZATION 125 132\\nPERSON 133 150\\nCOUNTRY 178 190\\nORGANIZATION 191 194\\nPERSON 196 202\\nPROFESSION 38 47\\nPERSON 72 83\\nPROFESSION 85 111\\nORGANIZATION 112 145\\nPERSON 146 155\\nNUMBER 165 169\\nPROFESSION 181 203\\nPERSON 204 215\\nCOUNTRY 237 249\\nORGANIZATION 250 253\\nORGANIZATION 362 371\\nPERSON 0 6\\nORGANIZATION 23 32\\nEVENT 48 55\\nCOUNTRY 56 68\\nPERSON 89 95\\nORGANIZATION 105 120\\nDATE 122 138\\nPROFESSION 148 162\\nORGANIZATION 172 181\\nPERSON 182 188\\nORGANIZATION 289 298\\nPERSON 299 308\\nPERSON 325 331\\nNUMBER 341 345\\nPROFESSION 353 366\\n125.ann\\nCITY 13 24\\nORGANIZATION 38 49\\nEVENT 62 70\\nPROFESSION 9 13\\nCOUNTRY 14 20\\nPERSON 21 36\\nEVENT 49 57\\nPROFESSION 58 125\\nPERSON 126 143\\nDATE 153 176\\nORGANIZATION 187 198\\nORGANIZATION 224 247\\nPERSON 0 8\\nAGE 19 25\\nORGANIZATION 51 62\\nDATE 63 74\\nPERSON 38 47\\nPERSON 55 67\\nORGANIZATION 89 146\\nPROFESSION 158 166\\nCOUNTRY 191 208\\nORGANIZATION 229 269\\nCOUNTRY 270 307\\nCOUNTRY 308 314\\nORGANIZATION 0 11\\nPERSON 26 34\\nPERSON 83 95\\n130.ann\\nPERSON 0 5\\nPERSON 0 13\\nPROFESSION 0 10\\nPERSON 11 24\\nDATE 131 141\\nPROFESSION 164 192\\nCOUNTRY 195 207\\nPERSON 208 231\\nPROFESSION 239 264\\nORGANIZATION 274 292\\nPERSON 17 30\\nAGE 199 208\\nPERSON 209 214\\nFACILITY 242 252\\nORGANIZATION 300 320\\nCOUNTRY 331 338\\nMONEY 384 406\\nORGANIZATION 472 490\\nPROFESSION 5 12\\nPERSON 13 20\\nPERSON 21 35\\nPERSON 138 147\\nPROFESSION 194 205\\nPERSON 4 10\\nPERSON 98 102\\nDATE 114 132\\nPERSON 0 10\\nEVENT 11 18\\nCOUNTRY 30 37\\nORGANIZATION 78 103\\nCOUNTRY 106 115\\nPERSON 166 181\\nDATE 183 194\\nPERSON 195 200\\nORGANIZATION 214 226\\nPROFESSION 261 274\\nORGANIZATION 281 294\\nPERSON 295 311\\nORGANIZATION 0 11\\nCOUNTRY 44 56\\nCOUNTRY 138 141\\nEVENT 142 148\\nDATE 149 164\\nORGANIZATION 202 214\\nORGANIZATION 216 226\\nORGANIZATION 228 241\\nORGANIZATION 244 254\\nPERSON 0 6\\nPERSON 22 29\\nPROFESSION 48 59\\nPERSON 60 75\\nDATE 121 145\\nPROFESSION 211 232\\nPROFESSION 0 6\\nAGE 5 14\\nPERSON 15 21\\nPERSON 195 201\\nDATE 217 228\\nPERSON 309 319\\nPROFESSION 393 404\\nPERSON 0 6\\nPROFESSION 157 167\\nORGANIZATION 168 177\\nPROFESSION 179 202\\nNUMBER 203 215\\nPROFESSION 268 293\\nPROFESSION 0 11\\nPERSON 53 67\\nORDINAL 83 89\\nPROFESSION 116 151\\nCOUNTRY 194 203\\nORGANIZATION 297 315\\nORGANIZATION 342 355\\nAGE 357 366\\nPERSON 367 380\\nNUMBER 389 398\\nPROFESSION 45 82\\nPERSON 99 106\\nPERSON 107 118\\nPERSON 148 153\\nEVENT 154 161\\nCOUNTRY 164 169\\nCOUNTRY 176 184\\nPROFESSION 206 221\\nORGANIZATION 237 244\\nORGANIZATION 269 287\\nORGANIZATION 339 348\\nPERSON 18 24\\nPROFESSION 36 61\\nNATIONALITY 79 85\\nPERSON 86 91\\nAGE 129 138\\nEVENT 170 192\\nCOUNTRY 204 215\\nEVENT 230 239\\nCOUNTRY 240 250\\nPERSON 284 286\\nEVENT 287 292\\nCOUNTRY 295 298\\nORGANIZATION 321 346\\nDATE 453 464\\nPERSON 465 471\\nDATE 0 11\\nPERSON 12 17\\nORGANIZATION 100 127\\nEVENT 154 172\\nDATE 173 183\\nDATE 195 212\\nPERSON 213 215\\nORGANIZATION 238 260\\nPERSON 351 358\\nPERSON 359 371\\nPERSON 414 419\\nORDINAL 464 471\\nPERSON 53 60\\nPERSON 234 240\\nPERSON 266 272\\n168.ann\\nPROFESSION 0 32\\nPROFESSION 33 43\\nCOUNTRY 44 50\\nPROFESSION 56 62\\nPERSON 63 71\\nORGANIZATION 0 21\\nCOUNTRY 22 28\\nEVENT 44 69\\nPROFESSION 129 146\\nPROFESSION 153 159\\nORGANIZATION 160 170\\nPERSON 171 182\\nPROFESSION 190 205\\nPERSON 206 221\\nORGANIZATION 224 229\\nPROFESSION 255 265\\nCOUNTRY 268 274\\nDATE 286 313\\nORGANIZATION 1 22\\nLAW 56 78\\nPROFESSION 85 95\\nPROFESSION 159 165\\nORGANIZATION 166 176\\nPROFESSION 187 204\\nDATE 227 247\\nPROFESSION 260 279\\nPERSON 280 298\\nCOUNTRY 324 334\\nCOUNTRY 10 19\\nPROFESSION 20 30\\nORGANIZATION 41 64\\nCOUNTRY 106 112\\nPROFESSION 115 124\\nPERSON 125 134\\nPROFESSION 189 199\\nPROFESSION 209 216\\nPERSON 349 371\\nNUMBER 442 446\\nPROFESSION 450 459\\nCOUNTRY 29 35\\nEVENT 46 71\\nPROFESSION 73 82\\nCOUNTRY 83 89\\nAGE 91 100\\nPERSON 101 123\\nEVENT 124 139\\nCOUNTRY 142 159\\nORGANIZATION 225 238\\nEVENT 259 276\\nORGANIZATION 279 288\\nPERSON 296 305\\nEVENT 357 377\\n176.ann\\nPERSON 0 10\\nEVENT 11 19\\nPERSON 20 32\\nORGANIZATION 40 42\\nCOUNTRY 43 45\\nPROFESSION 0 9\\nCOUNTRY 10 16\\nPERSON 17 33\\nEVENT 47 55\\nPERSON 56 77\\nORGANIZATION 92 114\\nCOUNTRY 115 117\\nORGANIZATION 155 178\\nPERSON 6 17\\nORGANIZATION 52 74\\nCOUNTRY 75 77\\nORGANIZATION 180 202\\nCOUNTRY 219 221\\nPERSON 222 233\\nPROFESSION 242 255\\nPERSON 0 11\\nEVENT 12 19\\nCOUNTRY 40 46\\nORGANIZATION 87 142\\nORGANIZATION 184 187\\nCOUNTRY 188 192\\nPROFESSION 217 234\\nNUMBER 263 267\\nORGANIZATION 9 30\\nCOUNTRY 31 51\\nPERSON 66 78\\nEVENT 98 112\\nDATE 113 129\\nORGANIZATION 131 133\\nCOUNTRY 134 136\\nORGANIZATION 167 189\\nCOUNTRY 206 214\\nORGANIZATION 58 60\\nCOUNTRY 61 63\\nPROFESSION 82 93\\nCOUNTRY 94 96\\nORGANIZATION 244 246\\nORGANIZATION 90 92\\nAGE 123 139\\nDATE 169 179\\nORGANIZATION 223 225\\nORGANIZATION 227 238\\nDATE 311 325\\nPROFESSION 42 62\\nCOUNTRY 63 65\\nPROFESSION 84 93\\nORGANIZATION 124 146\\n194.ann\\nORGANIZATION 0 3\\nORGANIZATION 24 45\\nIDEOLOGY 8 20\\nIDEOLOGY 21 32\\nORGANIZATION 46 65\\nCOUNTRY 69 77\\nPERSON 87 104\\nORGANIZATION 116 127\\nDATE 111 122\\nEVENT 130 140\\nDATE 143 153\\nCRIME 165 198\\nCRIME 201 214\\nCOUNTRY 224 235\\nORGANIZATION 117 131\\nCOUNTRY 144 150\\nPERSON 178 192\\nPROFESSION 194 198\\nPERSON 232 242\\nORGANIZATION 252 263\\nPENALTY 290 297\\nDATE 298 308\\nORGANIZATION 11 21\\nPERSON 24 34\\nEVENT 128 141\\nCOUNTRY 144 151\\nDATE 152 163\\nEVENT 2 12\\nPERSON 13 24\\nDATE 40 59\\nPROFESSION 83 90\\nPROFESSION 141 159\\nCOUNTRY 162 173\\nEVENT 185 194\\nPROFESSION 195 223\\nPROFESSION 225 232\\nEVENT 278 284\\nPROFESSION 285 322\\nORGANIZATION 471 474\\nPERSON 30 41\\nORGANIZATION 63 77\\nPERSON 138 151\\nCOUNTRY 209 220\\nPERSON 325 339\\n201.ann\\nORGANIZATION 7 17\\nPROFESSION 34 42\\nORGANIZATION 43 46\\nPERSON 73 82\\nPERSON 7 20\\nORGANIZATION 28 40\\nORGANIZATION 40 42\\nCOUNTRY 43 46\\nPROFESSION 64 72\\nCOUNTRY 73 81\\nPERSON 82 96\\nPERSON 123 135\\nORGANIZATION 154 161\\nPERSON 221 230\\nPERSON 302 309\\nEVENT 310 322\\nORGANIZATION 329 331\\nCOUNTRY 332 335\\nAGE 346 355\\nPERSON 356 365\\nPROFESSION 406 427\\nPERSON 428 437\\nPROFESSION 5 20\\nORGANIZATION 21 31\\nORGANIZATION 53 96\\nCOUNTRY 97 105\\nPERSON 106 125\\nCOUNTRY 162 169\\nCOUNTRY 67 75\\nPERSON 76 90\\nEVENT 112 119\\nPERSON 120 128\\nPROFESSION 131 139\\nCOUNTRY 140 143\\nPERSON 144 153\\nORGANIZATION 174 184\\nPERSON 185 192\\nEVENT 193 210\\nPERSON 238 248\\nPERSON 250 257\\nEVENT 258 281\\nPERSON 21 28\\nORGANIZATION 91 121\\nPROFESSION 184 202\\nPERSON 203 218\\nPERSON 269 276\\nORGANIZATION 308 311\\nORGANIZATION 330 332\\nCOUNTRY 333 336\\nPERSON 356 366\\nPERSON 422 430\\n203.ann\\nPERSON 0 16\\nEVENT 28 36\\nPROFESSION 0 9\\nORGANIZATION 10 37\\nPERSON 38 54\\nEVENT 71 79\\nDATE 89 98\\nPROFESSION 157 176\\nORGANIZATION 177 188\\nPERSON 0 8\\nORGANIZATION 20 47\\nDATE 50 59\\nDATE 121 132\\nAGE 148 154\\nPERSON 17 25\\nORGANIZATION 41 68\\nDATE 84 103\\nORGANIZATION 126 135\\nEVENT 152 160\\nCOUNTRY 174 180\\nPROFESSION 182 191\\nORGANIZATION 1 10\\nPERSON 30 38\\nDATE 54 65\\nPROFESSION 92 114\\nPERSON 115 130\\nORGANIZATION 141 165\\nPERSON 192 212\\nPERSON 226 234\\nDATE 263 274\\nPERSON 276 294\\nDATE 300 318\\nPERSON 17 26\\nORGANIZATION 29 35\\nEVENT 86 91\\nORGANIZATION 92 119\\nDATE 120 127\\nORGANIZATION 140 150\\nCOUNTRY 208 214\\nPERSON 215 229\\nPERSON 275 284\\nPROFESSION 313 326\\nPERSON 327 342\\nPERSON 364 379\\nORGANIZATION 0 27\\nCOUNTRY 28 34\\nCOUNTRY 82 86\\n2045.ann\\nPERSON 0 7\\nEVENT 8 24\\nORGANIZATION 31 34\\nIDEOLOGY 35 48\\nPROFESSION 0 9\\nCOUNTRY 10 13\\nPERSON 14 25\\nDATE 26 44\\nEVENT 46 62\\nORGANIZATION 69 72\\nIDEOLOGY 73 86\\nPERSON 87 99\\nORGANIZATION 116 124\\nORGANIZATION 5 20\\nPERSON 42 44\\nPERSON 45 49\\nORGANIZATION 83 86\\nAGE 87 97\\nPERSON 98 113\\nEVENT 123 146\\nDATE 147 156\\nEVENT 160 182\\nPERSON 0 12\\nAGE 13 20\\nPROFESSION 52 74\\nCOUNTRY 75 85\\nPROFESSION 87 112\\nPERSON 129 150\\nPROFESSION 184 193\\nORGANIZATION 207 229\\nORGANIZATION 253 268\\nORGANIZATION 279 295\\nORGANIZATION 302 306\\nPROFESSION 326 348\\nORGANIZATION 351 376\\nPERSON 0 7\\nPERSON 24 26\\nPERSON 27 31\\nORGANIZATION 132 135\\nIDEOLOGY 174 187\\nPERSON 216 223\\nCOUNTRY 18 21\\nORGANIZATION 190 201\\nORGANIZATION 211 217\\nORGANIZATION 220 229\\nORGANIZATION 261 264\\n211.ann\\nPROFESSION 0 36\\nDATE 45 53\\nCRIME 57 63\\nCOUNTRY 2 8\\nDATE 11 21\\nPENALTY 22 37\\nEVENT 38 48\\nORGANIZATION 66 107\\nORGANIZATION 108 123\\nCOUNTRY 124 130\\nPROFESSION 131 148\\nPERSON 149 166\\nORGANIZATION 168 179\\nEVENT 180 200\\nCRIME 203 219\\nMONEY 230 246\\nORGANIZATION 268 277\\nORGANIZATION 52 56\\nPROFESSION 58 65\\nPROFESSION 104 126\\nORGANIZATION 128 135\\nDATE 137 154\\nPERSON 179 187\\nPENALTY 202 222\\nPENALTY 229 256\\nPERSON 82 91\\nORGANIZATION 104 107\\nDATE 108 127\\nPROFESSION 195 202\\nCRIME 226 242\\nCRIME 249 274\\nORGANIZATION 22 30\\nPERSON 33 42\\nAGE 43 50\\nORGANIZATION 63 105\\nORGANIZATION 127 155\\nAWARD 196 214\\nNUMBER 218 226\\nORGANIZATION 13 24\\nPERSON 26 34\\n216.ann\\nPROFESSION 0 28\\nCOUNTRY 29 37\\nEVENT 45 53\\nPROFESSION 0 28\\nCOUNTRY 29 37\\nPERSON 38 57\\nEVENT 65 73\\nEVENT 141 149\\nPROFESSION 150 158\\nPROFESSION 175 199\\nLOCATION 200 214\\nPERSON 227 243\\nCOUNTRY 245 255\\nPROFESSION 256 263\\nPERSON 294 310\\nPROFESSION 320 339\\nPERSON 347 361\\nORGANIZATION 382 389\\nPERSON 0 15\\nDATE 75 92\\nPROFESSION 101 109\\nFACILITY 148 156\\nFACILITY 159 167\\nCOUNTRY 244 255\\nPERSON 275 291\\nFACILITY 308 323\\nFACILITY 325 334\\nCOUNTRY 12 22\\nORGANIZATION 23 26\\nEVENT 64 72\\nPERSON 73 89\\nAGE 91 100\\nPROFESSION 101 108\\nDATE 119 134\\nAGE 146 153\\nPROFESSION 185 223\\nDATE 228 257\\nPERSON 34 49\\nCOUNTRY 93 112\\nPERSON 122 130\\n221.ann\\nPERSON 0 10\\nEVENT 11 23\\nPROFESSION 24 36\\nORGANIZATION 37 43\\nPERSON 0 10\\nDATE 26 52\\nEVENT 104 117\\nPROFESSION 118 130\\nORGANIZATION 131 137\\nPERSON 139 144\\nPROFESSION 191 221\\nPERSON 303 315\\nPERSON 0 5\\nORGANIZATION 17 23\\nDATE 24 48\\nORGANIZATION 115 118\\nORGANIZATION 121 127\\nORGANIZATION 191 197\\nORGANIZATION 244 250\\nORGANIZATION 360 367\\nPRODUCT 392 399\\nAGE 23 32\\nPERSON 33 38\\nDATE 46 58\\nORGANIZATION 63 69\\nPERSON 121 132\\nPERSON 135 146\\nPERSON 164 168\\nCOUNTRY 279 285\\nPERSON 288 293\\nAGE 301 307\\nPROFESSION 18 33\\nPERSON 48 53\\nPERSON 64 69\\nPERSON 187 192\\nORGANIZATION 276 282\\nPERSON 423 428\\nEVENT 440 449\\nORGANIZATION 450 456\\nDATE 457 465\\nPERSON 474 478\\nPERSON 530 536\\nPERSON 20 25\\nORGANIZATION 83 100\\nORGANIZATION 191 207\\nPERSON 293 298\\nDATE 364 375\\nPERSON 426 430\\nPERSON 433 438\\nPROFESSION 475 487\\nORGANIZATION 12 24\\nORGANIZATION 66 73\\nPERSON 96 102\\nORGANIZATION 162 191\\nPRODUCT 192 199\\nPERSON 218 222\\nCOUNTRY 225 232\\nORGANIZATION 245 251\\nORDINAL 270 278\\nPERSON 10 14\\nPERSON 23 29\\nPERSON 151 155\\nORGANIZATION 248 254\\nDATE 255 281\\nORGANIZATION 53 59\\nMONEY 80 109\\nORGANIZATION 227 234\\nORGANIZATION 236 242\\nORGANIZATION 244 255\\nPERSON 22 27\\nPERCENT 115 132\\nORGANIZATION 139 145\\nMONEY 183 213\\nPERSON 221 226\\nPERCENT 233 251\\nDATE 8 11\\nORGANIZATION 81 87\\nDATE 104 119\\nORGANIZATION 126 131\\nPERCENT 146 157\\nPERSON 191 201\\nEVENT 202 241\\nPERSON 303 309\\nPERSON 312 318\\nORGANIZATION 319 325\\nDATE 379 383\\nDATE 46 49\\nMONEY 85 107\\nORGANIZATION 151 156\\nMONEY 180 192\\nDATE 202 218\\nPERCENT 248 260\\nPERSON 407 412\\nDATE 25 28\\nORGANIZATION 47 53\\nORGANIZATION 137 145\\nPERSON 166 180\\nDATE 196 200\\nCOUNTRY 224 237\\nORGANIZATION 246 250\\nORGANIZATION 0 8\\nORGANIZATION 20 26\\nORGANIZATION 118 126\\nORGANIZATION 216 222\\nORGANIZATION 257 265\\nPERSON 12 18\\nPERSON 12 17\\nORGANIZATION 47 70\\nDATE 72 83\\nORGANIZATION 84 90\\nORDINAL 240 250\\nCOUNTRY 326 329\\nORGANIZATION 139 145\\nPRODUCT 146 153\\nCOUNTRY 174 178\\nORGANIZATION 205 211\\nORGANIZATION 6 12\\nORGANIZATION 220 228\\nDATE 265 274\\nPERSON 275 286\\nORGANIZATION 308 314\\nPERCENT 323 332\\nAGE 25 34\\nORGANIZATION 49 55\\nPERSON 168 173\\nDATE 190 204\\nLOCATION 232 243\\n226.ann\\nORGANIZATION 18 21\\nNATIONALITY 33 47\\nORGANIZATION 7 26\\nPERSON 57 72\\nORGANIZATION 92 123\\nCOUNTRY 124 127\\nORGANIZATION 213 216\\nPERSON 223 251\\nPROFESSION 277 315\\nORGANIZATION 316 338\\nPERSON 12 19\\nDATE 68 76\\nORGANIZATION 77 95\\nORGANIZATION 96 124\\nNUMBER 140 148\\nPROFESSION 173 182\\nPROFESSION 194 206\\nPERSON 207 220\\nPROFESSION 257 271\\nPERSON 279 286\\nPERSON 0 12\\nPROFESSION 14 19\\nDATE 22 31\\nORGANIZATION 66 69\\nCOUNTRY 72 82\\nDATE 84 95\\nORGANIZATION 179 186\\nPERSON 188 194\\nPROFESSION 213 223\\nPERSON 224 236\\nORGANIZATION 281 284\\nPERSON 0 6\\nORGANIZATION 36 39\\nPROFESSION 40 50\\nNATIONALITY 51 66\\nPERSON 78 91\\nNATIONALITY 114 124\\nPERSON 186 193\\nORGANIZATION 205 208\\nORGANIZATION 306 325\\nPERSON 30 38\\nORGANIZATION 78 109\\nPERSON 166 171\\nPROFESSION 173 195\\nCOUNTRY 202 210\\nPERSON 211 252\\nPROFESSION 254 272\\nCOUNTRY 273 282\\nPERSON 283 313\\nPROFESSION 337 346\\nPERSON 369 408\\nORGANIZATION 440 443\\nPROFESSION 469 484\\nPERSON 502 523\\nPERSON 524 552\\nPERSON 562 611\\nPROFESSION 613 651\\nPROFESSION 661 671\\nCOUNTRY 672 675\\nORGANIZATION 15 18\\nPERSON 72 79\\nPERSON 191 198\\nCOUNTRY 223 226\\nPERSON 227 240\\nPERSON 272 278\\nORGANIZATION 294 297\\nPERSON 315 329\\nPERSON 330 352\\nPERSON 383 394\\n26_11_12f.ann\\nPROFESSION 18 32\\nPROFESSION 43 62\\nCOUNTRY 63 79\\nCITY 17 26\\nORGANIZATION 45 51\\nPROFESSION 76 90\\nEVENT 99 106\\nDATE 107 117\\nPERSON 118 134\\nEVENT 135 143\\nPROFESSION 161 172\\nCOUNTRY 173 189\\nDATE 228 252\\nORGANIZATION 262 274\\nORGANIZATION 286 302\\nEVENT 13 21\\nCOUNTRY 38 54\\nPROFESSION 73 83\\nPERSON 84 97\\nEVENT 105 120\\nNUMBER 121 124\\nPROFESSION 129 140\\nNUMBER 143 147\\nPROFESSION 148 173\\nDATE 176 201\\nEVENT 270 280\\nPROFESSION 299 335\\nPERSON 355 369\\nPROFESSION 373 387\\nEVENT 388 395\\nDATE 396 406\\nPERSON 407 424\\nPERSON 440 449\\nORGANIZATION 476 482\\nDATE 527 533\\nDATE 538 547\\nEVENT 563 584\\nPERSON 594 600\\nORGANIZATION 627 633\\nEVENT 635 658\\nPERSON 660 676\\nAGE 1070 1079\\nPERSON 1080 1106\\nCITY 1107 1115\\nDATE 1157 1174\\nORGANIZATION 1182 1204\\nCOUNTRY 1205 1221\\nORGANIZATION 1243 1249\\nCOUNTRY 1274 1290\\nDATE 1292 1311\\nORGANIZATION 1333 1353\\nORGANIZATION 1354 1379\\nPROFESSION 1409 1420\\nCOUNTRY 1451 1458\\nPROFESSION 1544 1552\\nPROFESSION 1553 1561\\nORGANIZATION 1633 1640\\nDATE 12 21\\nPROFESSION 35 79\\nPERSON 80 100\\nEVENT 101 109\\nPERSON 110 122\\nORGANIZATION 0 15\\nEVENT 23 37\\nCOUNTRY 40 48\\nPERSON 0 8\\nPROFESSION 41 51\\nPERSON 0 5\\nPROFESSION 41 50\\nPROFESSION 53 61\\nAGE 0 9\\nPERSON 10 22\\nORDINAL 79 85\\nORGANIZATION 95 111\\nDATE 114 125\\nCOUNTRY 153 169\\nPROFESSION 170 242\\nDATE 246 264\\nPROFESSION 282 293\\nPROFESSION 294 305\\nCOUNTRY 306 322\\nDATE 324 335\\nORGANIZATION 350 369\\nPROFESSION 390 432\\nORGANIZATION 97 121\\nORGANIZATION 13 71\\nORGANIZATION 77 86\\n27_11_12d.ann\\nORGANIZATION 6 32\\nCOUNTRY 33 36\\nPERSON 37 45\\nEVENT 46 64\\nORGANIZATION 6 32\\nCOUNTRY 33 36\\nPERSON 37 45\\nEVENT 46 64\\nPERSON 0 11\\nEVENT 13 25\\nORGANIZATION 26 34\\nCOUNTRY 35 38\\nORGANIZATION 67 70\\nEVENT 78 97\\nEVENT 99 116\\nORGANIZATION 127 141\\nCOUNTRY 208 211\\nPERSON 212 224\\nORGANIZATION 272 280\\nDATE 0 7\\nPERSON 8 16\\nCOUNTRY 34 43\\nCOUNTRY 46 58\\nPERSON 64 72\\nEVENT 73 90\\nDATE 91 109\\nORDINAL 132 138\\nPERSON 160 167\\nPERSON 224 232\\nNUMBER 264 268\\nCOUNTRY 299 309\\nPERSON 30 38\\nCOUNTRY 136 139\\nPERSON 140 151\\nPROFESSION 169 182\\nORGANIZATION 183 192\\nORGANIZATION 195 210\\nPERSON 211 224\\nORGANIZATION 235 238\\nPERSON 250 263\\nORGANIZATION 380 388\\nORGANIZATION 414 417\\nPERSON 418 430\\nAGE 76 85\\nPERSON 86 94\\nDATE 156 166\\nEVENT 167 188\\nPERSON 0 7\\nEVENT 8 16\\nPERSON 17 25\\nORGANIZATION 33 36\\nDATE 37 54\\nEVENT 135 154\\nORGANIZATION 162 188\\nORGANIZATION 246 261\\nEVENT 364 381\\nDATE 12 34\\nPERSON 44 52\\nPERSON 89 103\\nCRIME 118 134\\nPENALTY 150 165\\nPERSON 0 10\\nORGANIZATION 39 42\\nPROFESSION 47 57\\nPERSON 58 70\\nORGANIZATION 122 130\\nPERSON 221 229\\nORGANIZATION 44 52\\nCOUNTRY 156 166\\nORGANIZATION 181 189\\nORGANIZATION 2 5\\nDATE 33 54\\nPROFESSION 135 148\\n287.ann\\nEVENT 0 6\\nORGANIZATION 13 23\\nPERSON 24 41\\nORGANIZATION 6 41\\nPERSON 42 59\\nEVENT 60 83\\nORGANIZATION 102 113\\nCOUNTRY 155 161\\nORGANIZATION 20 30\\nEVENT 31 39\\nPERSON 40 57\\nEVENT 80 94\\nPROFESSION 95 131\\nPERSON 0 8\\nDATE 19 30\\nAGE 43 49\\nORGANIZATION 70 80\\nDATE 81 98\\nPERSON 126 135\\nEVENT 227 245\\nNUMBER 246 250\\nPRODUCT 262 271\\nDATE 273 292\\nPERSON 18 26\\nPERSON 192 205\\nORGANIZATION 254 264\\nPERSON 279 288\\n298.ann\\nPROFESSION 6 17\\nCOUNTRY 18 22\\nIDEOLOGY 34 45\\nPERSON 46 53\\nCOUNTRY 2 6\\nEVENT 10 17\\nPROFESSION 18 28\\nIDEOLOGY 39 44\\nIDEOLOGY 45 56\\nPERSON 57 70\\nAGE 72 81\\nPROFESSION 89 105\\nNUMBER 115 129\\nORGANIZATION 179 189\\nORGANIZATION 211 221\\nPERCENT 21 26\\nIDEOLOGY 75 96\\nAGE 104 113\\nPERSON 114 128\\nPERCENT 145 150\\nEVENT 39 46\\nCOUNTRY 49 53\\nPERSON 0 7\\nPROFESSION 17 59\\nCOUNTRY 60 64\\nPERSON 71 78\\nEVENT 102 122\\nCOUNTRY 127 138\\nDATE 141 155\\nPROFESSION 219 229\\nCOUNTRY 273 283\\nORGANIZATION 284 289\\nPROFESSION 300 313\\nEVENT 331 352\\nCOUNTRY 353 357\\nCOUNTRY 360 368\\nPROFESSION 417 427\\nPERSON 428 445\\nPERSON 0 7\\nPROFESSION 20 33\\nORDINAL 43 49\\nPROFESSION 80 90\\nPERSON 91 103\\nPERSON 146 153\\nPERSON 0 10\\nPROFESSION 22 32\\nPERSON 33 48\\nPROFESSION 50 57\\nORGANIZATION 65 74\\nCOUNTRY 100 103\\nPERSON 109 119\\nPENALTY 147 153\\nCRIME 157 185\\nCRIME 237 268\\nNUMBER 438 449\\nIDEOLOGY 499 505\\n29_11_12b.ann\\nCOUNTRY 0 12\\nORGANIZATION 13 16\\nEVENT 35 43\\nPROFESSION 44 52\\nCOUNTRY 61 68\\nPERSON 69 81\\nORGANIZATION 188 193\\nORGANIZATION 202 212\\nEVENT 213 235\\nEVENT 294 308\\nIDEOLOGY 317 328\\nCOUNTRY 329 333\\nPERSON 1 6\\nCOUNTRY 95 99\\nCOUNTRY 113 125\\nPROFESSION 32 56\\nORGANIZATION 140 146\\nORGANIZATION 233 242\\nORGANIZATION 51 67\\nPERSON 125 143\\nPROFESSION 195 203\\nCOUNTRY 204 211\\nAGE 10 19\\nPERSON 20 27\\nPROFESSION 46 62\\nCOUNTRY 63 70\\nORGANIZATION 100 120\\nDATE 121 134\\nPERSON 148 155\\nORGANIZATION 218 226\\nORGANIZATION 235 238\\nCOUNTRY 239 246\\nPROFESSION 248 273\\nPROFESSION 275 292\\n310.ann\\nCOUNTRY 0 10\\nPROFESSION 27 43\\nPROFESSION 0 9\\nCOUNTRY 10 20\\nPERSON 21 40\\nEVENT 41 58\\nPROFESSION 59 75\\nORGANIZATION 90 119\\nPERSON 120 161\\nORGANIZATION 172 192\\nCOUNTRY 7 20\\nDATE 53 59\\nEVENT 60 81\\nPERCENT 90 102\\nIDEOLOGY 112 127\\nPROFESSION 144 160\\nCOUNTRY 161 171\\nPERSON 172 186\\nORGANIZATION 203 226\\nDATE 265 276\\nIDEOLOGY 299 309\\nPERCENT 329 341\\nDATE 384 395\\nIDEOLOGY 16 27\\nCOUNTRY 28 36\\nEVENT 53 80\\nEVENT 126 133\\nPROFESSION 0 9\\nAGE 19 29\\nPERSON 30 43\\nIDEOLOGY 117 133\\nORGANIZATION 145 155\\nCOUNTRY 156 166\\nNUMBER 167 170\\nNUMBER 174 177\\nPROFESSION 205 212\\nDATE 244 254\\nCOUNTRY 256 269\\nORGANIZATION 326 344\\nORGANIZATION 392 399\\nCOUNTRY 43 53\\nCOUNTRY 197 206\\nORGANIZATION 209 239\\n320.ann\\nPROFESSION 0 7\\nPERSON 8 17\\nEVENT 18 26\\nORGANIZATION 41 44\\nPROFESSION 0 7\\nPERSON 8 21\\nEVENT 22 30\\nORGANIZATION 45 92\\nDATE 108 115\\nORGANIZATION 123 128\\nCOUNTRY 129 132\\nORGANIZATION 143 150\\nPERSON 16 25\\nEVENT 26 32\\nORGANIZATION 40 43\\nORGANIZATION 76 82\\nPROFESSION 99 106\\nPERSON 129 142\\nDATE 152 159\\nEVENT 164 172\\nPROFESSION 173 190\\nCOUNTRY 191 194\\nEVENT 213 221\\nPERSON 222 236\\nPERSON 238 247\\nPERSON 37 46\\nORGANIZATION 71 75\\nCOUNTRY 78 89\\nPERSON 151 161\\n322.ann\\nPERSON 0 8\\nORGANIZATION 44 47\\nNATIONALITY 0 11\\nPERSON 12 26\\nEVENT 28 37\\nDATE 38 45\\nORGANIZATION 80 83\\nDATE 85 103\\nORDINAL 146 152\\nPERSON 201 209\\nPROFESSION 229 246\\nCOUNTRY 247 254\\nAGE 0 9\\nPERSON 10 18\\nEVENT 19 28\\nORGANIZATION 36 39\\nDATE 43 53\\nPROFESSION 74 92\\nDATE 122 127\\nPROFESSION 136 153\\nPERSON 154 172\\nNATIONALITY 180 187\\nEVENT 193 200\\nCRIME 203 224\\nPROFESSION 225 234\\nCITY 235 248\\nEVENT 264 272\\nPERSON 11 19\\nORGANIZATION 37 40\\nORGANIZATION 57 75\\nCOUNTRY 76 83\\nPERSON 84 100\\nORGANIZATION 169 172\\nNATIONALITY 190 198\\nPERSON 30 38\\nEVENT 39 49\\nORGANIZATION 50 53\\nCOUNTRY 124 130\\nLOCATION 133 141\\nNATIONALITY 151 162\\nPROFESSION 235 252\\nNUMBER 104 107\\nLOCATION 200 208\\n333.ann\\nPERSON 0 8\\nEVENT 9 15\\nPROFESSION 28 36\\nPROFESSION 0 9\\nCOUNTRY 10 16\\nPERSON 17 33\\nEVENT 34 56\\nEVENT 59 65\\nORGANIZATION 94 123\\nORGANIZATION 125 128\\nPROFESSION 130 144\\nPERSON 145 158\\nPROFESSION 202 212\\nORGANIZATION 20 38\\nPERSON 62 68\\nPROFESSION 81 90\\nORGANIZATION 167 175\\nPERSON 176 192\\nORGANIZATION 211 216\\nPROFESSION 248 256\\nORGANIZATION 300 312\\nORGANIZATION 44 47\\nPROFESSION 49 57\\nCOUNTRY 103 109\\nORGANIZATION 29 31\\nAGE 34 43\\nPERSON 44 50\\nPROFESSION 75 86\\nORGANIZATION 21 31\\nPERSON 144 151\\nORGANIZATION 185 233\\nORGANIZATION 234 242\\nPERSON 261 275\\nORGANIZATION 288 333\\nORGANIZATION 334 354\\nPERSON 373 386\\n363.ann\\nPROFESSION 0 17\\nCOUNTRY 18 26\\nORGANIZATION 0 9\\nCOUNTRY 10 18\\nEVENT 19 25\\nPROFESSION 34 50\\nPERSON 51 66\\nPROFESSION 83 102\\nPERSON 103 119\\nORGANIZATION 130 150\\nAGE 152 161\\nPERSON 162 177\\nORDINAL 184 190\\nCOUNTRY 201 209\\nPERSON 13 28\\nNUMBER 54 57\\nORGANIZATION 66 76\\nNUMBER 91 94\\nORGANIZATION 114 123\\nCOUNTRY 146 153\\nNUMBER 214 217\\nORGANIZATION 0 20\\nORGANIZATION 22 31\\nEVENT 65 86\\nDATE 98 121\\nORGANIZATION 137 159\\nPERSON 160 177\\nPROFESSION 195 203\\nDATE 204 215\\nEVENT 262 270\\nORGANIZATION 274 284\\nORGANIZATION 299 321\\nNUMBER 336 339\\nPERSON 0 24\\nPERSON 25 41\\nPROFESSION 60 76\\nCOUNTRY 77 85\\nDATE 86 105\\nDATE 107 127\\nPERSON 135 149\\nCOUNTRY 173 181\\nEVENT 202 219\\nEVENT 250 264\\nPROFESSION 265 284\\nPERSON 314 328\\nEVENT 333 350\\nCOUNTRY 353 361\\nDATE 364 374\\nPENALTY 375 381\\nCRIME 397 406\\nDATE 408 419\\nPERSON 420 427\\nCOUNTRY 446 454\\nEVENT 457 477\\nPERSON 38 46\\nCOUNTRY 117 124\\nPERSON 173 187\\n370.ann\\nPERSON 0 10\\nEVENT 11 34\\nORGANIZATION 46 49\\nCOUNTRY 50 56\\nPROFESSION 0 9\\nPERSON 10 26\\nEVENT 36 57\\nCOUNTRY 72 82\\nORGANIZATION 83 86\\nEVENT 101 124\\nEVENT 127 150\\nORGANIZATION 161 164\\nORGANIZATION 197 200\\nPROFESSION 201 218\\nPERSON 219 235\\nPROFESSION 68 76\\nDATE 77 88\\nAGE 101 107\\nCOUNTRY 9 21\\nPERSON 22 33\\nORGANIZATION 51 54\\nDATE 55 72\\nORGANIZATION 93 119\\nORGANIZATION 120 123\\nORGANIZATION 126 142\\nORGANIZATION 143 161\\nORGANIZATION 202 238\\nPROFESSION 13 23\\nEVENT 24 48\\nORGANIZATION 97 100\\nORGANIZATION 102 127\\nPROFESSION 129 142\\nPERSON 143 159\\nORGANIZATION 179 239\\nPROFESSION 240 257\\nPERSON 258 275\\nEVENT 6 13\\nORGANIZATION 39 55\\nPROFESSION 56 69\\nPERSON 70 84\\nPERSON 108 123\\n375.ann\\nPERSON 9 16\\nEVENT 24 32\\nCRIME 39 65\\nORGANIZATION 27 30\\nCOUNTRY 33 51\\nPERSON 52 100\\nIDEOLOGY 147 160\\nDATE 176 187\\nEVENT 188 205\\nEVENT 214 222\\nCRIME 229 255\\nORGANIZATION 266 273\\nDATE 30 39\\nAGE 41 50\\nPROFESSION 51 58\\nAGE 74 83\\nCOUNTRY 96 123\\nORGANIZATION 127 135\\nDATE 215 220\\nPERSON 237 249\\nORGANIZATION 277 280\\nEVENT 284 301\\nDATE 19 38\\nDATE 78 95\\nPROFESSION 106 113\\nEVENT 137 154\\nCOUNTRY 157 161\\nPERSON 9 21\\nEVENT 310 317\\nPERSON 9 32\\nORGANIZATION 74 77\\nORGANIZATION 194 197\\nPERSON 198 216\\nPERSON 339 352\\nPERSON 430 458\\n378.ann\\nEVENT 0 4\\nCOUNTRY 11 26\\nCOUNTRY 2 20\\nEVENT 21 25\\nCOUNTRY 39 52\\nPERSON 53 66\\nORGANIZATION 77 88\\nTIME 28 59\\nCOUNTRY 70 79\\nCOUNTRY 82 98\\nPERSON 100 105\\nEVENT 110 119\\nORGANIZATION 152 161\\nEVENT 170 180\\nORGANIZATION 209 230\\nCOUNTRY 231 237\\nEVENT 252 260\\nCOUNTRY 23 28\\nNUMBER 46 50\\nNUMBER 54 58\\nDISEASE 116 123\\nEVENT 132 141\\nORGANIZATION 153 163\\nCOUNTRY 183 188\\nEVENT 189 197\\nORGANIZATION 0 20\\nEVENT 21 44\\nORDINAL 55 58\\nLAW 59 61\\nCOUNTRY 62 64\\nEVENT 67 75\\nPERSON 0 13\\nCOUNTRY 39 54\\n383.ann\\nEVENT 0 4\\nPERSON 5 13\\nEVENT 21 32\\nORGANIZATION 33 38\\nEVENT 0 4\\nORGANIZATION 11 16\\nPERSON 17 29\\nEVENT 32 40\\nEVENT 48 70\\nORGANIZATION 81 88\\nPROFESSION 16 38\\nORGANIZATION 50 55\\nPERSON 56 64\\nEVENT 79 97\\nEVENT 99 119\\nPERCENT 123 125\\nMONEY 170 183\\nPERSON 0 7\\nEVENT 8 25\\nDATE 43 62\\nPROFESSION 104 126\\nORGANIZATION 127 132\\nPERSON 144 151\\nPERSON 159 166\\nORGANIZATION 186 191\\nPROFESSION 205 235\\nDATE 0 17\\nAGE 18 27\\nPERSON 28 35\\n384.ann\\nPERSON 0 10\\nEVENT 11 23\\nPROFESSION 24 36\\nORGANIZATION 37 42\\nPERSON 0 10\\nORGANIZATION 36 41\\nEVENT 58 71\\nPROFESSION 72 94\\nORGANIZATION 113 129\\nPERSON 45 52\\nPROFESSION 204 218\\nPROFESSION 25 47\\nORGANIZATION 48 53\\nPERSON 65 72\\nPERSON 80 87\\nORGANIZATION 107 112\\nPROFESSION 126 156\\nDATE 0 17\\nAGE 18 27\\nPERSON 28 35\\nDATE 10 24\\nPERSON 27 35\\nDISEASE 55 79\\nPERCENT 101 104\\nDATE 139 157\\nORGANIZATION 175 180\\nDISEASE 197 221\\nEVENT 286 302\\nCOUNTRY 329 338\\nORGANIZATION 0 5\\nPERSON 29 38\\nPERSON 52 67\\nDATE 114 125\\nPERSON 127 134\\nEVENT 135 139\\nORGANIZATION 143 148\\nORGANIZATION 181 185\\nORGANIZATION 285 290\\nPROFESSION 297 332\\nEVENT 336 345\\nORGANIZATION 361 365\\nORGANIZATION 42 47\\nDATE 58 81\\nPRODUCT 151 155\\nPRODUCT 168 174\\nPRODUCT 187 191\\nORGANIZATION 16 21\\n402.ann\\nPROFESSION 0 7\\nCOUNTRY 8 14\\nPROFESSION 25 42\\nCOUNTRY 43 49\\nPERSON 50 62\\nORGANIZATION 79 101\\nDATE 111 118\\nEVENT 138 177\\nORDINAL 0 6\\nPROFESSION 24 46\\nEVENT 47 55\\nAGE 56 65\\nPERSON 66 80\\nIDEOLOGY 131 141\\nPROFESSION 160 180\\nPERSON 181 194\\nPERSON 196 202\\nPROFESSION 212 227\\nPERSON 228 240\\nPROFESSION 288 296\\nPERSON 297 307\\nPERSON 0 12\\nPERSON 49 53\\nPROFESSION 74 82\\nPERSON 108 115\\nPERSON 153 157\\nORDINAL 230 236\\nPROFESSION 46 53\\nORGANIZATION 54 67\\nPERSON 68 91\\nPROFESSION 101 149\\nNUMBER 17 22\\nORGANIZATION 49 63\\nEVENT 77 85\\nPROFESSION 120 144\\nPERSON 145 159\\nPROFESSION 168 194\\nPERSON 58 70\\nPERSON 0 12\\nORGANIZATION 32 54\\nPERSON 137 147\\n416.ann\\nORGANIZATION 15 29\\nEVENT 30 38\\nEVENT 45 62\\nORGANIZATION 60 74\\nPERSON 75 87\\nEVENT 88 95\\nORGANIZATION 96 115\\nAGE 134 144\\nPROFESSION 145 153\\nPROFESSION 176 188\\nPERSON 189 199\\nEVENT 210 253\\nCOUNTRY 256 267\\nDATE 4 13\\nPERSON 14 23\\nEVENT 24 51\\nPERSON 87 94\\nEVENT 98 108\\nORGANIZATION 132 143\\nEVENT 167 199\\nDATE 243 253\\nORGANIZATION 262 273\\nPROFESSION 276 283\\nDATE 284 294\\nEVENT 331 338\\nORGANIZATION 339 353\\nPERSON 0 9\\nORGANIZATION 20 39\\nPERSON 77 85\\nPROFESSION 114 138\\nORGANIZATION 150 156\\nORGANIZATION 176 190\\nPERSON 226 235\\nPROFESSION 259 281\\nPROFESSION 293 319\\nPERSON 20 29\\nCOUNTRY 87 89\\nPERSON 90 98\\nORGANIZATION 124 127\\nCRIME 141 158\\nORGANIZATION 172 183\\nPROFESSION 213 222\\nPENALTY 234 244\\nCRIME 8 15\\nORGANIZATION 24 35\\nCOUNTRY 36 54\\nPERSON 65 75\\nPROFESSION 123 135\\nCOUNTRY 136 147\\nPERSON 148 166\\nPERSON 215 226\\nFACILITY 228 233\\nORGANIZATION 250 253\\nDATE 318 327\\nORGANIZATION 18 29\\nORGANIZATION 170 184\\nCOUNTRY 185 187\\nPERSON 188 197\\nPERSON 215 225\\nORGANIZATION 11 25\\nPERSON 42 52\\nPERSON 119 134\\nORGANIZATION 156 199\\n421.ann\\nPERSON 0 8\\nORDINAL 35 42\\nPROFESSION 43 67\\nNATIONALITY 0 12\\nPROFESSION 13 23\\nPERSON 24 37\\nORGANIZATION 80 98\\nORDINAL 124 131\\nPROFESSION 132 156\\nAGE 168 177\\nPERSON 178 188\\nPROFESSION 190 209\\nORGANIZATION 221 247\\nPERSON 249 257\\nORGANIZATION 342 351\\nORGANIZATION 9 27\\nPERSON 130 139\\nPERSON 190 199\\nORGANIZATION 271 280\\nPERSON 297 306\\nPERSON 322 332\\nORGANIZATION 349 358\\nPERSON 405 413\\nPERSON 440 448\\nPERSON 451 460\\nPERSON 532 540\\nORGANIZATION 563 572\\nORGANIZATION 717 735\\n433.ann\\nORGANIZATION 0 3\\nCOUNTRY 5 11\\nPERSON 20 29\\nPROFESSION 47 55\\nEVENT 62 69\\nPROFESSION 0 16\\nPERSON 17 31\\nORGANIZATION 57 70\\nPERSON 71 88\\nCOUNTRY 105 111\\nPERSON 142 151\\nPROFESSION 160 168\\nEVENT 175 182\\nORGANIZATION 206 216\\nPERSON 5 13\\nIDEOLOGY 38 44\\nPROFESSION 164 172\\nPROFESSION 187 197\\nPROFESSION 209 218\\nPROFESSION 55 65\\nORGANIZATION 93 106\\nPROFESSION 117 129\\nPERSON 130 143\\nPERSON 204 213\\nAGE 218 224\\nORGANIZATION 10 35\\nPROFESSION 47 62\\nPERSON 114 122\\nPROFESSION 152 162\\nORGANIZATION 164 172\\nPROFESSION 182 196\\nPROFESSION 214 226\\nPERSON 284 291\\nORGANIZATION 337 345\\nORGANIZATION 371 382\\nDATE 10 21\\nEVENT 25 38\\nORGANIZATION 40 53\\nPERSON 55 65\\nPERSON 76 84\\nPROFESSION 103 113\\nCOUNTRY 114 116\\nEVENT 120 127\\nCOUNTRY 135 143\\nPROFESSION 144 161\\nORGANIZATION 205 218\\nEVENT 223 238\\nORGANIZATION 299 312\\nPROFESSION 12 28\\nCOUNTRY 29 31\\nPERSON 32 46\\nORGANIZATION 80 93\\nPROFESSION 113 130\\nPERSON 138 148\\nORGANIZATION 322 335\\nORGANIZATION 353 360\\n438.ann\\nPROFESSION 6 13\\nCOUNTRY 14 19\\nORGANIZATION 40 66\\nPROFESSION 6 13\\nCOUNTRY 22 27\\nPERSON 28 47\\nDATE 48 61\\nORGANIZATION 96 122\\nNUMBER 134 138\\nEVENT 188 195\\nPERSON 216 233\\nCOUNTRY 9 17\\nORGANIZATION 18 31\\nAGE 61 70\\nPERSON 71 90\\nIDEOLOGY 106 115\\nDATE 125 135\\nIDEOLOGY 145 151\\nCOUNTRY 161 166\\nIDEOLOGY 178 196\\nEVENT 240 247\\nCOUNTRY 66 71\\nPERSON 91 104\\nORGANIZATION 142 155\\nDATE 172 185\\nPROFESSION 215 223\\nCOUNTRY 224 229\\nPERSON 230 242\\nORGANIZATION 20 32\\nDATE 34 45\\nIDEOLOGY 64 73\\nPERSON 74 112\\nPROFESSION 113 122\\nPERSON 131 140\\nORGANIZATION 189 202\\nPERSON 219 228\\nORGANIZATION 263 276\\nCOUNTRY 277 282\\nDATE 283 304\\n441.ann\\nPERSON 0 7\\nNUMBER 13 17\\nPROFESSION 24 36\\nORGANIZATION 0 15\\nEVENT 16 24\\nPROFESSION 38 50\\nPROFESSION 51 73\\nCOUNTRY 74 76\\nPERSON 77 94\\nPERSON 96 112\\nPERSON 115 130\\nPROFESSION 31 43\\nCOUNTRY 44 46\\nPERSON 47 57\\nPROFESSION 59 103\\nPERSON 104 113\\nDATE 115 133\\nORGANIZATION 264 287\\nCOUNTRY 288 290\\nPERSON 312 321\\nORGANIZATION 354 374\\nCOUNTRY 375 377\\nPROFESSION 0 44\\nPERSON 45 55\\nDATE 57 75\\nDATE 106 118\\nDATE 148 160\\nPROFESSION 183 194\\nPROFESSION 216 225\\nCOUNTRY 226 246\\nDATE 266 284\\nPERSON 285 295\\nCOUNTRY 325 342\\nPERSON 0 11\\nDATE 13 31\\nPROFESSION 35 79\\nDATE 110 122\\nDATE 152 164\\nPROFESSION 192 201\\nCOUNTRY 202 222\\nPROFESSION 237 246\\nCOUNTRY 247 264\\nCOUNTRY 277 296\\nDATE 313 331\\nCOUNTRY 361 381\\nPERSON 0 7\\nCOUNTRY 204 206\\nORGANIZATION 0 15\\nEVENT 22 31\\nPROFESSION 32 78\\nPERSON 79 92\\nPROFESSION 106 117\\nPROFESSION 118 140\\nCOUNTRY 141 143\\n443.ann\\nCOUNTRY 0 10\\nPROFESSION 11 26\\nEVENT 27 43\\nPROFESSION 0 15\\nCOUNTRY 16 30\\nPERSON 31 41\\nEVENT 42 58\\nORGANIZATION 102 122\\nCOUNTRY 123 147\\nPERSON 6 12\\nPERSON 239 245\\nEVENT 264 272\\nPROFESSION 16 31\\nPERSON 32 45\\nPERSON 77 83\\nPROFESSION 191 207\\nCOUNTRY 13 23\\nPERSON 32 38\\nEVENT 61 69\\nPROFESSION 148 157\\nPERSON 158 180\\nPROFESSION 186 202\\nCOUNTRY 235 245\\nPROFESSION 279 288\\nPERSON 301 308\\nAGE 41 50\\nPERSON 51 60\\nPERSON 73 80\\nNUMBER 83 85\\nPERSON 138 147\\nPERSON 216 223\\n445.ann\\nCOUNTRY 0 11\\nIDEOLOGY 12 22\\nPROFESSION 51 61\\nPROFESSION 13 23\\nCOUNTRY 24 31\\nORGANIZATION 35 58\\nAGE 64 73\\nPERSON 74 88\\nORGANIZATION 99 119\\nDATE 135 145\\nNUMBER 15 35\\nNUMBER 39 51\\nCOUNTRY 60 66\\nPERCENT 90 102\\nPERSON 122 133\\nPERCENT 136 147\\nORDINAL 157 163\\nEVENT 168 196\\nORDINAL 200 206\\nDATE 231 240\\nPERCENT 292 310\\nAGE 0 9\\nPERSON 10 21\\nORGANIZATION 39 62\\nEVENT 99 108\\nPERSON 132 139\\nPROFESSION 153 166\\nPERSON 0 14\\nIDEOLOGY 26 37\\nDATE 38 56\\nPERSON 107 121\\nORGANIZATION 140 163\\nORDINAL 183 189\\nEVENT 195 204\\nORDINAL 214 223\\nEVENT 239 246\\nDATE 247 256\\nPROFESSION 275 285\\nPERSON 24 30\\nCOUNTRY 121 128\\nPERSON 129 143\\nPROFESSION 186 210\\n449.ann\\nPERSON 0 7\\nORGANIZATION 31 46\\nCOUNTRY 13 36\\nEVENT 48 57\\nNATIONALITY 58 67\\nPERSON 68 79\\nORGANIZATION 93 130\\nORGANIZATION 209 216\\nCOUNTRY 241 243\\nPERSON 15 22\\nORGANIZATION 80 110\\nCOUNTRY 111 117\\nORGANIZATION 164 167\\nPERSON 168 183\\nAGE 0 9\\nPERSON 10 21\\nORGANIZATION 51 67\\nCOUNTRY 68 74\\nPROFESSION 107 124\\nCOUNTRY 125 134\\nORGANIZATION 159 173\\nORGANIZATION 58 61\\nPERSON 62 80\\nEVENT 81 98\\nCOUNTRY 212 223\\nCOUNTRY 226 237\\nPROFESSION 281 292\\nCOUNTRY 0 7\\nPERSON 49 59\\nNATIONALITY 94 101\\nPERSON 133 140\\nPERSON 148 155\\nNATIONALITY 166 176\\nCOUNTRY 185 192\\nPROFESSION 249 264\\nORGANIZATION 18 21\\nPERSON 22 36\\nDATE 59 82\\n463.ann\\nPROFESSION 6 23\\nCOUNTRY 24 30\\nEVENT 31 39\\nPERSON 40 58\\nCOUNTRY 18 24\\nORGANIZATION 25 55\\nPROFESSION 56 62\\nPERSON 63 77\\nPROFESSION 94 110\\nPERSON 111 129\\nORGANIZATION 149 166\\nORGANIZATION 199 210\\nPERSON 0 18\\nDATE 20 29\\nORGANIZATION 59 72\\nCOUNTRY 73 79\\nDATE 80 99\\nORGANIZATION 151 164\\nPERSON 165 177\\nEVENT 187 195\\nEVENT 204 222\\nDATE 227 249\\nDATE 277 287\\nORGANIZATION 302 317\\nEVENT 338 360\\nPERSON 361 373\\nNATIONALITY 412 419\\nPROFESSION 431 440\\nCOUNTRY 37 43\\nEVENT 85 117\\nDATE 140 147\\nPROFESSION 192 200\\nCOUNTRY 2 8\\nDATE 13 25\\nEVENT 39 65\\nDATE 96 106\\nEVENT 107 126\\nCITY 134 142\\nCOUNTRY 151 157\\nEVENT 168 216\\nORGANIZATION 233 236\\nNUMBER 269 271\\nNUMBER 292 302\\nCOUNTRY 322 329\\nCOUNTRY 365 375\\nCOUNTRY 2 8\\n466.ann\\nPROFESSION 4 11\\nPERSON 12 21\\nORGANIZATION 72 78\\nNATIONALITY 4 17\\nPROFESSION 18 30\\nPERSON 31 46\\nPERSON 48 61\\nEVENT 63 73\\nPROFESSION 74 98\\nCOUNTRY 99 110\\nORGANIZATION 159 201\\nORGANIZATION 212 219\\nAGE 241 251\\nPROFESSION 252 265\\nNUMBER 280 294\\nPERSON 33 42\\nORGANIZATION 45 50\\nEVENT 117 125\\nCRIME 128 152\\nCOUNTRY 168 180\\nORGANIZATION 181 190\\nCOUNTRY 192 202\\nPERSON 279 287\\nORGANIZATION 334 343\\nORGANIZATION 0 9\\nORGANIZATION 33 39\\nORGANIZATION 52 61\\n497.ann\\nORGANIZATION 2 12\\nEVENT 25 33\\nORGANIZATION 45 48\\nORGANIZATION 14 24\\nPERSON 25 41\\nORGANIZATION 68 71\\nORGANIZATION 72 80\\nORGANIZATION 81 96\\nCOUNTRY 97 99\\nPROFESSION 100 117\\nPERSON 118 137\\nEVENT 138 161\\nORGANIZATION 177 212\\nEVENT 213 222\\nPROFESSION 223 236\\nPERSON 237 249\\nORGANIZATION 269 278\\nPERSON 0 10\\nPERSON 23 32\\nEVENT 33 56\\nEVENT 20 28\\nPERSON 29 39\\nDATE 52 62\\nORGANIZATION 64 75\\nAGE 96 105\\nPERSON 106 115\\nPROFESSION 140 150\\nORGANIZATION 151 202\\nEVENT 248 256\\nORGANIZATION 263 280\\nDATE 299 317\\nCOUNTRY 328 334\\nPERSON 335 351\\nPROFESSION 360 370\\nORGANIZATION 25 33\\nPERSON 56 65\\nPROFESSION 98 114\\nPERSON 115 133\\nORGANIZATION 151 154\\nTIME 0 5\\nDATE 6 31\\nEVENT 46 54\\nORGANIZATION 61 64\\nORGANIZATION 77 94\\nPERSON 119 138\\nORGANIZATION 0 35\\n510.ann\\nPERSON 0 10\\nEVENT 11 27\\nORGANIZATION 41 48\\nCOUNTRY 49 51\\nPERSON 52 65\\nPROFESSION 0 9\\nCOUNTRY 10 16\\nPERSON 17 33\\nEVENT 34 43\\nPERSON 44 60\\nORGANIZATION 87 106\\nCOUNTRY 107 113\\nPROFESSION 5 22\\nDATE 32 40\\nDATE 49 60\\nPERSON 61 74\\nAGE 87 93\\nCOUNTRY 9 20\\nAGE 110 116\\nAGE 151 157\\nPERSON 0 12\\nEVENT 13 20\\nDATE 21 29\\nCOUNTRY 46 55\\nCOUNTRY 56 73\\nCOUNTRY 74 81\\nORGANIZATION 100 135\\nORGANIZATION 148 177\\nORGANIZATION 216 231\\nCOUNTRY 232 236\\nPROFESSION 22 32\\nPERSON 33 45\\nEVENT 50 58\\nORGANIZATION 71 89\\nORGANIZATION 90 105\\nCOUNTRY 106 117\\nORGANIZATION 131 147\\nEVENT 14 37\\nORGANIZATION 49 67\\nEVENT 70 78\\nORGANIZATION 102 121\\nCOUNTRY 122 142\\nPROFESSION 164 177\\nPERSON 178 187\\nORGANIZATION 57 76\\nCOUNTRY 77 97\\nAWARD 22 49\\nAWARD 146 187\\nCOUNTRY 239 241\\nAWARD 285 325\\nAWARD 334 352\\nAWARD 355 367\\nCOUNTRY 427 429\\nORGANIZATION 493 510\\nCOUNTRY 511 515\\nPERSON 0 15\\nNUMBER 29 33\\n520.ann\\nPERSON 11 17\\nPERSON 34 43\\nPROFESSION 0 30\\nORGANIZATION 56 65\\nPERSON 67 80\\nEVENT 81 89\\nPROFESSION 101 111\\nCOUNTRY 112 118\\nPERSON 119 136\\nDATE 157 166\\nCOUNTRY 176 182\\nORGANIZATION 14 23\\nPROFESSION 26 41\\nPROFESSION 42 52\\nPERSON 53 69\\nPERSON 90 97\\nORGANIZATION 118 140\\nORGANIZATION 30 52\\nDATE 122 139\\nPERSON 151 160\\nPROFESSION 179 209\\nPERSON 210 223\\nPERSON 252 258\\nPROFESSION 261 280\\nPERSON 281 298\\nAGE 0 9\\nPERSON 10 23\\nORDINAL 33 37\\nPROFESSION 66 77\\nCOUNTRY 78 84\\nORGANIZATION 96 102\\nMONEY 132 154\\nPERSON 162 168\\nORGANIZATION 210 232\\nORGANIZATION 266 288\\nPERSON 301 310\\nPERSON 0 16\\nPERSON 230 238\\nPERSON 264 280\\n531.ann\\nPERSON 0 8\\nEVENT 9 15\\nPERSON 16 29\\nORGANIZATION 48 50\\nORGANIZATION 51 54\\nCOUNTRY 55 65\\nPROFESSION 0 9\\nCOUNTRY 10 16\\nPERSON 17 33\\nPROFESSION 44 70\\nPERSON 71 92\\nORGANIZATION 117 136\\nORGANIZATION 137 140\\nCOUNTRY 141 147\\nCOUNTRY 151 167\\nCOUNTRY 170 191\\nCOUNTRY 223 229\\nPERSON 0 12\\nDATE 43 59\\nORGANIZATION 100 103\\nPERSON 104 121\\nORGANIZATION 13 24\\nCITY 56 70\\nORGANIZATION 82 85\\nPERSON 114 127\\nPROFESSION 128 149\\nPERSON 150 162\\nPERSON 6 11\\nPERSON 33 46\\nORGANIZATION 67 69\\nORGANIZATION 70 73\\nCOUNTRY 74 84\\nPROFESSION 141 164\\nPERSON 165 186\\nPERSON 192 203\\nDATE 204 219\\nDATE 0 13\\nPERSON 14 33\\nPROFESSION 96 108\\nCITY 159 169\\nAGE 0 9\\nPERSON 10 25\\nDATE 39 48\\nPERSON 61 73\\nPROFESSION 76 119\\nPERSON 120 135\\nPERSON 138 151\\nPERSON 201 207\\nPERSON 265 274\\nPERSON 0 7\\nPERSON 65 75\\nPERSON 77 82\\nORGANIZATION 95 99\\nCOUNTRY 103 118\\nPERSON 119 141\\nDATE 143 152\\nPERSON 200 219\\nPERSON 9 21\\nPERSON 32 44\\nORGANIZATION 101 104\\nCOUNTRY 105 107\\nCOUNTRY 110 116\\nORGANIZATION 129 132\\nORGANIZATION 152 155\\nPERSON 156 173\\n539.ann\\nORGANIZATION 18 21\\nORGANIZATION 48 60\\nORGANIZATION 33 36\\nPERSON 37 63\\nEVENT 66 74\\nPROFESSION 103 115\\nORGANIZATION 117 129\\nORGANIZATION 151 163\\nCOUNTRY 168 176\\nORGANIZATION 193 204\\nPERSON 30 38\\nPROFESSION 54 78\\nORGANIZATION 141 144\\nORGANIZATION 176 188\\nORGANIZATION 194 206\\nDATE 218 234\\nCOUNTRY 271 282\\nORGANIZATION 1 13\\nDATE 28 39\\nORGANIZATION 67 79\\nPERCENT 93 105\\nCOUNTRY 109 120\\nORGANIZATION 137 149\\nPERCENT 152 162\\nCOUNTRY 204 214\\nCOUNTRY 216 222\\nCOUNTRY 224 255\\nDATE 257 274\\nLAW 275 306\\nNUMBER 307 311\\nORGANIZATION 328 330\\nDATE 345 357\\nDATE 0 11\\nPERSON 12 27\\nORGANIZATION 65 73\\nPROFESSION 110 122\\nPERSON 123 134\\nORGANIZATION 147 150\\nORGANIZATION 189 192\\nORGANIZATION 242 243\\nORGANIZATION 245 248\\nORGANIZATION 251 265\\nPERSON 287 303\\nAGE 304 310\\nORGANIZATION 33 57\\nORGANIZATION 124 139\\nPERSON 219 235\\nORGANIZATION 252 259\\nORGANIZATION 282 289\\n542.ann\\nORGANIZATION 0 3\\nPERSON 9 23\\nEVENT 32 35\\nCOUNTRY 38 44\\nDATE 5 15\\nFACILITY 18 26\\nPERSON 36 53\\nCOUNTRY 56 62\\nEVENT 73 79\\nPRODUCT 103 127\\nPRODUCT 130 139\\nEVENT 154 160\\nAGE 208 217\\nORGANIZATION 236 239\\nORGANIZATION 263 266\\nCOUNTRY 267 273\\nPERSON 65 74\\nPRODUCT 88 91\\nPRODUCT 207 214\\nEVENT 225 228\\nORGANIZATION 267 269\\nORGANIZATION 270 273\\nDISEASE 68 91\\nDISEASE 93 119\\nDISEASE 121 126\\nPROFESSION 53 64\\nORGANIZATION 65 85\\nORGANIZATION 96 100\\nPROFESSION 107 126\\nPERSON 127 149\\nPERSON 150 163\\nPERSON 255 264\\n543.ann\\nPERSON 0 10\\nEVENT 11 17\\nPROFESSION 18 29\\nCOUNTRY 30 38\\nPROFESSION 0 9\\nCOUNTRY 10 16\\nPERSON 17 33\\nEVENT 34 49\\nPROFESSION 50 61\\nCOUNTRY 62 78\\nPERSON 79 94\\nORGANIZATION 113 116\\nPROFESSION 135 148\\nEVENT 155 173\\nORGANIZATION 241 264\\nORGANIZATION 265 268\\nORGANIZATION 18 26\\nDATE 84 98\\nPROFESSION 123 140\\nPROFESSION 156 167\\nCOUNTRY 190 206\\nCOUNTRY 207 216\\nCOUNTRY 218 237\\nPERSON 238 250\\nCOUNTRY 252 269\\nPERSON 270 282\\nCOUNTRY 285 299\\nPERSON 300 313\\nEVENT 20 32\\nCOUNTRY 57 65\\nCOUNTRY 96 102\\nPROFESSION 106 126\\nCOUNTRY 135 147\\nCRIME 181 190\\nPROFESSION 201 227\\nPROFESSION 285 296\\nCOUNTRY 297 305\\nPERSON 306 316\\nPROFESSION 348 361\\nPERSON 0 9\\nPROFESSION 24 35\\nCOUNTRY 36 52\\nDATE 57 69\\nEVENT 82 91\\nPROFESSION 117 131\\nPERSON 247 263\\nPROFESSION 271 281\\nCOUNTRY 282 288\\nPROFESSION 333 350\\nPERSON 351 368\\nPERSON 19 29\\nCRIME 107 116\\nCRIME 119 142\\nPROFESSION 151 161\\nPERSON 176 185\\nEVENT 225 232\\nORGANIZATION 245 305\\nCOUNTRY 332 344\\nEVENT 30 50\\nPROFESSION 51 66\\nCOUNTRY 67 83\\nAGE 85 94\\nPERSON 95 112\\nIDEOLOGY 165 174\\nPERSON 18 28\\nORGANIZATION 76 87\\nEVENT 91 112\\nSTATE_OR_PROVINCE 147 155\\nORGANIZATION 157 159\\nPERCENT 169 175\\nCOUNTRY 182 194\\nPERSON 200 209\\nORDINAL 228 232\\nORGANIZATION 289 293\\nORGANIZATION 13 26\\nDATE 55 64\\nPERSON 68 75\\nORGANIZATION 128 132\\nPERSON 133 150\\nNUMBER 152 156\\nORGANIZATION 180 193\\nEVENT 212 220\\nPROFESSION 221 237\\nCOUNTRY 271 277\\n570.ann\\nCOUNTRY 0 10\\nPROFESSION 48 60\\nPROFESSION 9 21\\nCOUNTRY 22 40\\nPERSON 41 59\\nCOUNTRY 113 124\\nCOUNTRY 127 148\\nORGANIZATION 167 178\\nPERSON 13 24\\nDATE 51 60\\nEVENT 65 80\\nDATE 81 104\\nORGANIZATION 106 119\\nCOUNTRY 131 149\\nPERCENT 156 159\\nEVENT 185 191\\nCOUNTRY 197 206\\nPROFESSION 225 239\\nPROFESSION 0 11\\nAGE 66 76\\nCOUNTRY 77 86\\nCOUNTRY 119 124\\nCOUNTRY 186 192\\nORGANIZATION 295 326\\nPERCENT 354 367\\nPERSON 9 19\\nORDINAL 25 31\\nPROFESSION 32 44\\nEVENT 79 102\\nEVENT 127 147\\nPROFESSION 20 42\\nPERSON 44 54\\nORGANIZATION 73 97\\nCOUNTRY 187 193\\nCOUNTRY 196 206\\nPROFESSION 224 233\\nORGANIZATION 234 241\\nORGANIZATION 282 285\\nORGANIZATION 390 397\\nPERSON 398 412\\nPROFESSION 414 432\\nPERSON 433 446\\nPROFESSION 449 467\\nCOUNTRY 470 494\\nPERSON 495 509\\nDATE 4 11\\nEVENT 64 71\\nCOUNTRY 98 109\\nCOUNTRY 112 140\\nPERSON 152 167\\nDATE 199 222\\nDATE 224 229\\nCOUNTRY 232 241\\nEVENT 242 249\\nPERSON 250 264\\nPROFESSION 297 309\\nORGANIZATION 341 354\\nPERSON 386 397\\nCITY 79 92\\nPERSON 99 118\\nIDEOLOGY 120 130\\nPROFESSION 190 203\\nIDEOLOGY 344 354\\nORGANIZATION 413 438\\nPROFESSION 446 457\\nPROFESSION 504 514\\nIDEOLOGY 563 573\\n574.ann\\nPROFESSION 0 6\\nORGANIZATION 7 17\\nCOUNTRY 18 27\\nEVENT 28 40\\nEVENT 47 59\\nPROFESSION 0 6\\nORGANIZATION 7 20\\nORGANIZATION 21 31\\nCOUNTRY 32 41\\nPERSON 42 55\\nEVENT 65 89\\nPERSON 169 179\\nCRIME 182 219\\nORGANIZATION 230 238\\nPERSON 0 10\\nCRIME 60 90\\nAGE 93 103\\nPERSON 104 116\\nPROFESSION 165 172\\nCRIME 184 217\\nPROFESSION 4 10\\nORGANIZATION 68 75\\nPERSON 104 106\\nPROFESSION 174 187\\nEVENT 209 234\\nPROFESSION 235 242\\nORGANIZATION 77 95\\nPERSON 107 116\\nORGANIZATION 148 168\\nPERSON 185 194\\n576.ann\\nPROFESSION 0 38\\nEVENT 50 58\\nPROFESSION 0 11\\nORGANIZATION 33 48\\nPERSON 49 74\\nEVENT 92 105\\nDATE 106 124\\nPROFESSION 6 19\\nPROFESSION 36 45\\nPROFESSION 48 69\\nORGANIZATION 70 85\\nPERSON 86 125\\nPERSON 127 135\\nPERSON 156 191\\nPROFESSION 243 259\\nORGANIZATION 260 278\\nORGANIZATION 294 309\\nAGE 0 9\\nPERSON 10 17\\nPROFESSION 31 43\\nDATE 44 55\\nORGANIZATION 66 81\\nDATE 91 102\\nEVENT 130 135\\nORGANIZATION 136 163\\nPERSON 165 172\\nDATE 203 214\\nEVENT 22 30\\nPROFESSION 31 43\\nDATE 88 115\\nDATE 117 135\\nDATE 166 192\\nMONEY 201 246\\nPERCENT 271 283\\nMONEY 287 309\\nORGANIZATION 43 58\\nCOUNTRY 74 77\\nORGANIZATION 110 118\\n598_.ann\\nORGANIZATION 11 15\\nEVENT 16 30\\nNUMBER 31 35\\nORGANIZATION 54 58\\nPERSON 59 90\\nEVENT 91 119\\nNUMBER 126 130\\nCOUNTRY 158 166\\nORGANIZATION 175 184\\nORGANIZATION 213 217\\nPERSON 15 30\\nEVENT 236 244\\nPERSON 245 259\\nAGE 322 328\\nORGANIZATION 106 110\\nNUMBER 121 125\\nPERSON 134 164\\nPERSON 166 178\\nPERSON 181 198\\nPERSON 266 283\\nORGANIZATION 324 328\\nAGE 0 9\\nPERSON 10 15\\nPROFESSION 51 62\\nORGANIZATION 99 121\\nORGANIZATION 132 137\\nPERSON 244 248\\nAGE 271 277\\nPROFESSION 317 327\\nEVENT 353 362\\nORGANIZATION 382 402\\nPERSON 416 423\\nAGE 425 432\\nORGANIZATION 448 451\\nPROFESSION 457 472\\nORGANIZATION 544 548\\nPERSON 0 14\\nORGANIZATION 23 27\\nCOUNTRY 124 130\\nORGANIZATION 158 163\\nORGANIZATION 194 198\\nCOUNTRY 262 268\\n610.ann\\nCOUNTRY 2 5\\nEVENT 6 15\\nPROFESSION 29 39\\nPERSON 40 42\\nPERSON 43 49\\nCOUNTRY 2 5\\nEVENT 6 15\\nPROFESSION 29 39\\nPERSON 40 66\\nORGANIZATION 77 93\\nPERSON 115 126\\nAGE 128 137\\nPROFESSION 138 147\\nCOUNTRY 169 178\\nDISEASE 246 249\\nDISEASE 251 257\\nPERSON 268 278\\nPERSON 0 9\\nORGANIZATION 53 69\\nNUMBER 153 155\\nPERSON 191 202\\nPERSON 203 210\\nORGANIZATION 220 246\\nCOUNTRY 297 309\\n615.ann\\nPERSON 0 6\\nEVENT 7 16\\nPERSON 17 25\\nEVENT 28 37\\nPROFESSION 46 56\\nCOUNTRY 57 62\\nPROFESSION 0 9\\nCOUNTRY 10 15\\nPERSON 16 26\\nEVENT 27 62\\nPERSON 63 76\\nEVENT 91 99\\nPROFESSION 108 118\\nCOUNTRY 119 144\\nORGANIZATION 155 159\\nCOUNTRY 9 19\\nPROFESSION 27 44\\nEVENT 45 54\\nPROFESSION 62 72\\nCOUNTRY 73 78\\nPROFESSION 1 10\\nCOUNTRY 11 14\\nCOUNTRY 110 116\\nCOUNTRY 119 125\\nPROFESSION 10 21\\nCOUNTRY 22 27\\nEVENT 41 48\\nDATE 60 67\\nAGE 76 85\\nPERSON 86 94\\nPERSON 96 115\\nDATE 134 143\\nLAW 149 160\\nORDINAL 197 203\\nPERSON 209 217\\nIDEOLOGY 238 247\\nCOUNTRY 264 268\\nEVENT 272 303\\nORGANIZATION 337 352\\nCOUNTRY 354 357\\nEVENT 368 377\\nPROFESSION 385 395\\nCOUNTRY 396 401\\nCOUNTRY 438 447\\n629.ann\\nPERSON 0 8\\nEVENT 9 18\\nPERSON 19 28\\nORGANIZATION 35 43\\nPERSON 44 60\\nPROFESSION 91 134\\nPERSON 135 151\\nORGANIZATION 178 186\\nCOUNTRY 289 291\\nORGANIZATION 26 34\\nPERSON 60 79\\nPERSON 115 128\\nPERSON 45 53\\nPERSON 63 84\\nORGANIZATION 126 138\\nPROFESSION 158 167\\nPROFESSION 210 229\\nPERSON 230 243\\nORGANIZATION 17 25\\nPERSON 26 40\\nEVENT 41 57\\nDATE 58 69\\nPROFESSION 71 88\\nCITY 102 115\\nIDEOLOGY 116 125\\nPERSON 126 138\\nDATE 178 194\\nPERSON 0 18\\nAGE 19 25\\nORGANIZATION 77 94\\n631.ann\\nCOUNTRY 0 10\\nORGANIZATION 37 40\\nCOUNTRY 41 46\\nORGANIZATION 57 60\\nPERSON 0 16\\nEVENT 18 29\\nDATE 30 37\\nORGANIZATION 59 77\\nORGANIZATION 78 81\\nORDINAL 84 91\\nORGANIZATION 105 136\\nCOUNTRY 137 139\\nDATE 174 186\\nCOUNTRY 197 215\\nORGANIZATION 224 271\\nORGANIZATION 279 307\\nORGANIZATION 308 311\\nCOUNTRY 312 316\\nORGANIZATION 43 46\\nCOUNTRY 47 49\\nCOUNTRY 52 58\\nDATE 60 73\\nEVENT 74 83\\nORGANIZATION 95 104\\nCOUNTRY 105 124\\nORDINAL 161 168\\nORGANIZATION 218 221\\nCOUNTRY 222 228\\nORGANIZATION 264 267\\nCOUNTRY 271 276\\nPERSON 13 22\\nNUMBER 35 38\\nORGANIZATION 60 63\\nCOUNTRY 64 70\\nORGANIZATION 98 148\\nPROFESSION 19 40\\nPROFESSION 48 65\\nPERSON 73 92\\nEVENT 109 117\\nDATE 131 138\\nAGE 155 161\\nORGANIZATION 247 266\\nPERSON 282 292\\n633.ann\\nORGANIZATION 0 13\\nCOUNTRY 14 24\\nORGANIZATION 46 63\\nPROFESSION 6 34\\nORGANIZATION 35 81\\nCOUNTRY 84 100\\nPROFESSION 108 116\\nPERSON 117 131\\nPROFESSION 168 192\\nORGANIZATION 195 217\\nORGANIZATION 243 261\\nORGANIZATION 295 305\\nCOUNTRY 308 318\\nPERSON 0 9\\nPROFESSION 41 48\\nORGANIZATION 49 52\\nPERSON 53 67\\nEVENT 77 106\\nPROFESSION 114 131\\nPERSON 132 152\\nDATE 191 206\\nPERSON 43 52\\nPROFESSION 85 120\\nAWARD 136 151\\nCOUNTRY 152 156\\nPERSON 157 173\\nAGE 232 241\\nPERSON 242 251\\nORGANIZATION 271 274\\nEVENT 301 308\\nCITY 314 327\\nCOUNTRY 362 369\\nPERSON 336 345\\nPERSON 0 9\\nEVENT 10 17\\nCOUNTRY 20 30\\nORGANIZATION 87 140\\nORGANIZATION 155 186\\nDATE 188 201\\nORGANIZATION 245 261\\nWORK_OF_ART 315 328\\nDATE 331 344\\nORGANIZATION 380 389\\nCOUNTRY 391 397\\nDATE 400 413\\nPROFESSION 434 457\\nEVENT 461 481\\nORGANIZATION 484 496\\nCOUNTRY 498 504\\nPROFESSION 537 561\\nORGANIZATION 564 586\\nPROFESSION 0 8\\nNUMBER 50 53\\nPROFESSION 55 69\\nDATE 71 77\\nDATE 80 86\\nWORK_OF_ART 150 156\\nWORK_OF_ART 219 226\\nWORK_OF_ART 252 269\\nCITY 288 301\\nEVENT 340 368\\nEVENT 371 421\\nEVENT 422 427\\nWORK_OF_ART 442 464\\nCOUNTRY 487 497\\nCOUNTRY 509 514\\nCOUNTRY 516 523\\nkuleshov.ann\\nPERSON 4 15\\nPERSON 4 15\\nCOUNTRY 2 12\\nPROFESSION 67 84\\nPERSON 85 105\\nPROFESSION 120 130\\nDATE 132 139\\nPROFESSION 140 170\\nEVENT 171 187\\nORGANIZATION 194 197\\nPERSON 209 223\\nPERSON 259 277\\nORGANIZATION 294 305\\nPROFESSION 19 36\\nPROFESSION 38 86\\nORGANIZATION 98 117\\nEVENT 36 44\\nPROFESSION 54 77\\nPERSON 78 95\\nEVENT 168 183\\nPERSON 213 224\\nPERSON 22 39\\nORGANIZATION 117 138\\nCOUNTRY 139 149\\nPERSON 198 209\\nORGANIZATION 17 36\\nPERSON 37 50\\nORGANIZATION 63 66\\nPERSON 67 82\\nPERSON 117 128\\nORGANIZATION 152 159\\nPERSON 207 225\\nEVENT 227 247\\nEVENT 274 282\\nORGANIZATION 289 292\\nPERSON 293 310\\nCOUNTRY 360 367\\nPROFESSION 377 385\\nPERSON 411 422\\nPROFESSION 426 438\\nPERSON 439 451\\nORGANIZATION 488 491\\nORGANIZATION 494 497\\nORGANIZATION 510 513\\nORGANIZATION 546 549\\nORGANIZATION 0 27\\nCOUNTRY 67 78\\nORGANIZATION 79 82\\nPERSON 122 133\\nEVENT 149 169\\nORGANIZATION 191 202\\nORGANIZATION 223 226\\nEVENT 227 240\\nPROFESSION 249 257\\nPERSON 285 304\\nORGANIZATION 320 323\\nPERSON 339 348\\nPERSON 377 388\\nORGANIZATION 439 442\\nORGANIZATION 506 509\\nORGANIZATION 33 54\\nCOUNTRY 55 65\\nPERSON 120 131\\nORGANIZATION 16 19\\nORGANIZATION 22 35\\nCOUNTRY 36 46\\nPERSON 74 85\\nPERSON 86 92\\nPROFESSION 128 138\\nCOUNTRY 14 25\\nIDEOLOGY 26 39\\nPROFESSION 63 73\\nPERSON 102 111\\nAGE 139 149\\nPERSON 150 154\\nlast_15.ann\\nORGANIZATION 7 20\\nEVENT 21 29\\nPERSON 30 44\\nPERSON 0 14\\nORGANIZATION 84 95\\nPROFESSION 105 120\\nPERSON 121 134\\nEVENT 151 159\\nEVENT 197 200\\nORGANIZATION 20 33\\nEVENT 57 65\\nPERSON 66 81\\nORGANIZATION 109 120\\nPERSON 121 135\\nORGANIZATION 29 42\\nDATE 49 58\\nDATE 69 78\\nORGANIZATION 92 99\\nPERSON 0 8\\nAGE 9 15\\nDATE 17 39\\nORGANIZATION 112 123\\nPERSON 0 24\\nEVENT 25 32\\nDATE 33 51\\nCOUNTRY 54 60\\nDATE 62 73\\nORGANIZATION 96 166\\nPROFESSION 185 217\\nDATE 220 231\\nORGANIZATION 234 301\\nDATE 395 406\\nORGANIZATION 437 461\\nORGANIZATION 464 477\\nORGANIZATION 9 22\\nEVENT 23 44\\nPERSON 15 23\\nAGE 24 33\\nPERSON 34 47\\nEVENT 61 64\\nEVENT 74 90\\nEVENT 207 215\\nEVENT 250 259\\nCRIME 273 304\\nPROFESSION 0 14\\nORGANIZATION 15 46\\nPERSON 47 61\\nDATE 230 241\\nEVENT 0 24\\nDATE 25 36\\nNUMBER 86 92\\nEVENT 93 96\\nORGANIZATION 135 146\\nPERSON 147 162\\nDATE 170 183\\nEVENT 20 23\\nORGANIZATION 13 24\\nPERSON 25 39\\nlast_17.ann\\nCOUNTRY 2 10\\nPERSON 28 34\\nEVENT 50 57\\nORGANIZATION 33 40\\nPERSON 68 74\\nPERSON 189 198\\nEVENT 216 222\\nCRIME 240 254\\nPERSON 0 13\\nORGANIZATION 0 6\\nDATE 8 13\\nORGANIZATION 16 27\\nCOUNTRY 61 69\\nDATE 70 79\\nEVENT 105 112\\nPROFESSION 113 130\\nPROFESSION 145 159\\nEVENT 171 190\\nEVENT 195 206\\nORGANIZATION 227 233\\nDATE 0 7\\nCOUNTRY 10 18\\nEVENT 30 66\\nPROFESSION 111 123\\nORGANIZATION 136 168\\nCOUNTRY 169 177\\nORGANIZATION 180 211\\nAGE 234 243\\nPERSON 244 257\\nIDEOLOGY 266 280\\nORGANIZATION 282 325\\nPROFESSION 326 341\\nPERSON 342 358\\nPERSON 360 369\\nEVENT 383 404\\nDATE 405 414\\nORDINAL 434 440\\nLAW 482 509\\nPERSON 510 516\\nPROFESSION 525 543\\nPERSON 547 556\\nPROFESSION 568 584\\nCOUNTRY 17 25\\nDATE 121 140\\nEVENT 148 159\\nORGANIZATION 232 239\\nPERSON 267 273\\nPERSON 36 45\\nEVENT 63 69\\nCRIME 87 101\\nCOUNTRY 35 44\\nCOUNTRY 80 88\\nORGANIZATION 201 223\\nCOUNTRY 226 234\\nPERSON 343 352\\nCOUNTRY 555 563\\nCOUNTRY 589 592\\nlast_33.ann\\nCOUNTRY 2 8\\nEVENT 9 25\\nPROFESSION 26 47\\nPERSON 48 67\\nCOUNTRY 2 8\\nORGANIZATION 38 47\\nDATE 49 56\\nEVENT 57 75\\nPROFESSION 76 100\\nPERSON 101 120\\nDATE 122 129\\nAGE 149 156\\nEVENT 160 178\\nPROFESSION 194 201\\nPROFESSION 214 222\\nPERSON 223 238\\nPERSON 259 273\\nCOUNTRY 380 386\\nPERSON 0 25\\nPROFESSION 38 48\\nORGANIZATION 84 128\\nPROFESSION 145 163\\nDATE 241 254\\nCOUNTRY 281 287\\nCOUNTRY 290 305\\nEVENT 9 26\\nPERSON 27 37\\nEVENT 38 46\\nCOUNTRY 49 53\\nCOUNTRY 81 87\\nORGANIZATION 140 153\\nPERSON 154 163\\nPROFESSION 170 177\\nCOUNTRY 211 217\\nCOUNTRY 221 230\\nPROFESSION 9 21\\nCOUNTRY 49 55\\nPERSON 56 72\\nORGANIZATION 100 134\\nPERSON 153 164\\nPROFESSION 165 202\\nNATIONALITY 213 223\\nPROFESSION 224 231\\nNUMBER 55 62\\nORGANIZATION 82 102\\nCOUNTRY 105 114\\nNUMBER 201 204\\nPERSON 221 231\\nCOUNTRY 253 259\\nCOUNTRY 282 286\\nORGANIZATION 326 329\\nCOUNTRY 331 345\\nORDINAL 371 377\\nCOUNTRY 415 421\\nCOUNTRY 437 441\\nORGANIZATION 480 484\\nPERSON 489 501\\nPERSON 0 10\\nPERSON 138 156\\nDATE 161 167\\nEVENT 168 188\\nPERSON 0 8\\nORGANIZATION 31 45\\nPERSON 52 62\\nCOUNTRY 115 119\\nPERSON 260 275\\nCOUNTRY 298 302\\nPROFESSION 415 422\\nPERSON 47 58\\nORGANIZATION 76 116\\nDATE 118 125\\nPERSON 126 131\\nEVENT 132 139\\nPERSON 140 148\\nPERSON 150 159\\nPROFESSION 162 171\\nPERSON 172 187\\nWORK_OF_ART 223 239\\nlast_37.ann\\nNUMBER 0 13\\nCOUNTRY 55 59\\nDATE 0 13\\nORDINAL 33 39\\nEVENT 40 60\\nEVENT 67 81\\nEVENT 97 123\\nIDEOLOGY 137 147\\nNATIONALITY 161 169\\nDATE 170 186\\nNUMBER 0 13\\nDATE 25 38\\nEVENT 56 63\\nCOUNTRY 75 79\\nEVENT 100 118\\nPROFESSION 138 155\\nORDINAL 4 10\\nCOUNTRY 13 17\\nEVENT 18 38\\nEVENT 45 59\\nEVENT 75 101\\nIDEOLOGY 122 132\\nNATIONALITY 146 154\\nDATE 155 171\\nEVENT 22 29\\nNUMBER 39 57\\nNATIONALITY 0 10\\nORGANIZATION 11 63\\nDATE 64 82\\nEVENT 83 120\\nCOUNTRY 121 127\\nCOUNTRY 138 142\\nIDEOLOGY 152 163\\nEVENT 164 173\\nORGANIZATION 174 178\\nCOUNTRY 208 219\\nCOUNTRY 222 231\\nPROFESSION 232 239\\nDATE 257 276\\nIDEOLOGY 287 299\\nORGANIZATION 339 343\\nCOUNTRY 364 370\\nORGANIZATION 376 389\\nDATE 391 397\\nCOUNTRY 412 416\\nNUMBER 433 437\\nNATIONALITY 464 472\\nEVENT 473 492\\nPROFESSION 6 12\\nORGANIZATION 13 16\\nPERSON 17 27\\nEVENT 55 61\\nLOCATION 0 8\\nORGANIZATION 9 12\\nNUMBER 35 39\\nEVENT 59 64\\nPROFESSION 96 103\\nPERSON 104 150\\nAGE 162 168\\nORGANIZATION 11 24\\nPERSON 25 35\\nDATE 44 63\\nDATE 65 76\\nPROFESSION 86 105\\nPROFESSION 118 128\\nCOUNTRY 138 146\\nPERSON 0 5\\nORGANIZATION 24 72\\nORGANIZATION 74 77\\nEVENT 115 137\\nCOUNTRY 178 182\\nPROFESSION 46 59\\nAGE 74 83\\nPERSON 84 113\\nPERSON 115 121\\nCOUNTRY 132 139\\nPROFESSION 163 176\\nORGANIZATION 179 199\\nCOUNTRY 200 204\\nDATE 206 239\\nPERSON 240 246\\nPROFESSION 251 276\\nPROFESSION 286 311\\nDATE 313 332\\nPERSON 333 339\\nPROFESSION 348 357\\nCOUNTRY 358 362\\nPERSON 17 58\\nDATE 60 78\\nEVENT 86 94\\nORGANIZATION 121 134\\nCOUNTRY 135 139\\nPROFESSION 141 151\\nDATE 168 179\\nORGANIZATION 199 224\\nORGANIZATION 237 240\\nPERSON 252 258\\nPROFESSION 264 277\\nDATE 287 296\\nPERSON 297 303\\nEVENT 304 320\\nEVENT 366 376\\nCRIME 392 425\\nPROFESSION 10 17\\nCOUNTRY 18 22\\nDATE 23 42\\nPERSON 43 71\\nORGANIZATION 92 95\\nORGANIZATION 147 192\\nAGE 39 48\\nPERSON 49 79\\nDATE 81 92\\nPROFESSION 93 100\\nEVENT 123 130\\nPROFESSION 131 141\\nORDINAL 153 159\\nPERSON 174 191\\nPROFESSION 208 219\\nPERSON 221 226\\nPROFESSION 282 300\\nPROFESSION 332 354\\nORGANIZATION 355 415\\nORGANIZATION 453 485\\nDATE 500 511\\nPERSON 60 105\\nCOUNTRY 151 155\\nCOUNTRY 252 256\\nlast_62.ann\\nCOUNTRY 2 12\\nPERSON 18 27\\nPROFESSION 13 23\\nPROFESSION 31 43\\nCOUNTRY 44 54\\nPERSON 55 73\\nPERSON 74 87\\nPROFESSION 99 121\\nORGANIZATION 149 159\\nEVENT 174 184\\nDATE 198 205\\nCITY 10 19\\nORGANIZATION 21 33\\nORGANIZATION 36 40\\nORGANIZATION 58 94\\nORGANIZATION 281 285\\nORGANIZATION 296 306\\nNUMBER 321 325\\nNUMBER 346 369\\nDATE 376 381\\nPERSON 3 9\\nPROFESSION 15 37\\nPERSON 58 71\\nPERSON 128 154\\nPERCENT 156 159\\nCOUNTRY 169 174\\nPERCENT 176 179\\nDATE 12 20\\nPERSON 28 43\\nORGANIZATION 96 119\\nPERCENT 155 157\\nPERSON 56 69\\nPERSON 133 143\\nCOUNTRY 217 223\\nmaykl_dzhekson.ann\\nPERSON 5 20\\nDATE 51 68\\nDATE 19 30\\nPROFESSION 32 49\\nPERSON 51 73\\nDATE 83 99\\nEVENT 101 108\\nEVENT 112 124\\nDATE 130 147\\nORGANIZATION 232 243\\nPERSON 268 285\\nPERSON 21 27\\nNUMBER 129 134\\nPERSON 141 156\\nDATE 7 14\\nPERSON 30 44\\nORGANIZATION 54 61\\nCOUNTRY 62 71\\nPROFESSION 124 141\\nPERSON 143 157\\nPROFESSION 170 175\\nAGE 198 207\\nPERSON 277 282\\nCOUNTRY 326 333\\nDATE 0 16\\nCOUNTRY 21 31\\nPERSON 38 44\\nCOUNTRY 60 67\\nPERSON 69 74\\nPERSON 77 82\\nDATE 147 168\\nAGE 242 251\\nPERSON 252 263\\nPERSON 269 282\\nPROFESSION 315 320\\nDATE 347 356\\nPERSON 403 409\\nPERSON 23 38\\nPROFESSION 60 66\\nCOUNTRY 155 160\\nCOUNTRY 168 175\\nPROFESSION 281 286\\nCOUNTRY 327 330\\nPERSON 34 40\\nTIME 215 220\\nORGANIZATION 263 270\\nCOUNTRY 271 281\\nCOUNTRY 11 17\\nPERSON 19 25\\nPERSON 121 126\\nPERSON 128 133\\nPERSON 136 143\\nPERSON 176 182\\nPROFESSION 54 71\\nEVENT 84 115\\nPERSON 176 191\\nPERSON 199 205\\nPROFESSION 240 245\\nORGANIZATION 301 304\\nPERSON 353 361\\nDATE 0 16\\nPERSON 31 48\\nPERSON 61 82\\nPROFESSION 266 276\\nPERSON 0 13\\nEVENT 14 23\\nrosobrnadzor.ann\\nORGANIZATION 0 12\\nAGE 23 32\\nPROFESSION 33 41\\nORGANIZATION 0 12\\nAGE 23 32\\nPROFESSION 33 41\\nPROFESSION 0 15\\nCOUNTRY 16 22\\nPERSON 23 39\\nEVENT 40 48\\nORGANIZATION 63 120\\nPROFESSION 121 141\\nAGE 142 152\\nPERSON 153 168\\nORGANIZATION 217 230\\nDATE 0 15\\nEVENT 41 53\\nPERSON 54 68\\nORGANIZATION 82 96\\nDATE 97 120\\nPROFESSION 122 131\\nCOUNTRY 183 201\\nORGANIZATION 204 220\\nPERSON 12 22\\nORGANIZATION 25 28\\nPERSON 74 84\\nPROFESSION 95 111\\nPROFESSION 126 137\\nPROFESSION 233 240\\nPERSON 26 39\\nCOUNTRY 64 74\\nPROFESSION 75 85\\nORGANIZATION 122 135\\nORGANIZATION 182 193\\nPERSON 194 212\\nryadovoy_chelah.ann\\nPROFESSION 5 13\\nPERSON 14 31\\nCRIME 47 55\\nNUMBER 56 58\\nPROFESSION 59 72\\nPROFESSION 75 80\\nEVENT 88 96\\nDISEASE 114 126\\nORGANIZATION 13 26\\nORGANIZATION 57 62\\nPERSON 65 80\\nORGANIZATION 120 131\\nCOUNTRY 135 156\\nCOUNTRY 170 176\\nCRIME 195 203\\nNUMBER 204 206\\nPROFESSION 221 226\\nEVENT 257 265\\nEVENT 26 37\\nEVENT 138 146\\nNUMBER 53 62\\nEVENT 132 140\\nPERSON 148 152\\nPROFESSION 295 307\\nPERSON 308 324\\nPERSON 43 51\\nPROFESSION 18 26\\nPERSON 27 41\\nEVENT 45 62\\nEVENT 83 91\\nPERSON 417 423\\nPERSON 0 14\\nPROFESSION 46 59\\nFACILITY 74 86\\nDATE 5 16\\nPROFESSION 78 84\\nNUMBER 298 301\\nDISEASE 302 317\\nDISEASE 330 337\\nPERSON 349 354\\nCOUNTRY 13 26\\nORGANIZATION 56 67\\nEVENT 74 100\\nNUMBER 101 103\\nPROFESSION 104 117\\nPROFESSION 122 127\\nNUMBER 136 145\\nEVENT 159 168\\nORDINAL 169 174\\nPROFESSION 175 191\\nPERSON 192 209\\nCRIME 250 257\\nCRIME 260 272\\nDISEASE 351 370\\nPERSON 22 31\\n'"
      ]
     },
     "execution_count": 177,
     "metadata": {},
     "output_type": "execute_result"
    }
   ],
   "source": [
    "result"
   ]
  },
  {
   "cell_type": "code",
   "execution_count": 178,
   "id": "fa93cda5",
   "metadata": {},
   "outputs": [
    {
     "data": {
      "text/plain": [
       "86541"
      ]
     },
     "execution_count": 178,
     "metadata": {},
     "output_type": "execute_result"
    }
   ],
   "source": [
    "open('answer.txt', 'w').write(result)"
   ]
  },
  {
   "cell_type": "code",
   "execution_count": null,
   "id": "4654d041",
   "metadata": {},
   "outputs": [],
   "source": []
  }
 ],
 "metadata": {
  "kernelspec": {
   "display_name": "Python 3 (ipykernel)",
   "language": "python",
   "name": "python3"
  },
  "language_info": {
   "codemirror_mode": {
    "name": "ipython",
    "version": 3
   },
   "file_extension": ".py",
   "mimetype": "text/x-python",
   "name": "python",
   "nbconvert_exporter": "python",
   "pygments_lexer": "ipython3",
   "version": "3.10.9"
  }
 },
 "nbformat": 4,
 "nbformat_minor": 5
}
